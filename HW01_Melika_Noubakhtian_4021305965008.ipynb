{
  "nbformat": 4,
  "nbformat_minor": 0,
  "metadata": {
    "colab": {
      "provenance": [],
      "collapsed_sections": [
        "2dIi0_5RKgik",
        "3SBNkCkdKZb6",
        "C7tfn6wBUzOY"
      ]
    },
    "kernelspec": {
      "name": "python3",
      "display_name": "Python 3"
    },
    "language_info": {
      "name": "python"
    }
  },
  "cells": [
    {
      "cell_type": "markdown",
      "source": [
        "Hello everyone,\n",
        "\n",
        "Welcome to the Machine Learning (ML) course for the Fall 2023 semester! We want to extend a warm and enthusiastic greeting to each and every one of you.\n",
        "\n",
        "In the coming months, we will investigate a wide range of topics, including different supervised and unsupervised learning methods, and use them on real-world data to explore the challenges people typically encounter in this field.\n",
        "\n",
        "**A quick word on honor code:** Honor codes try to fostering academic honesty, trust, and commitment to uphold ethical standards. Here we provide a small honor code to discourage any kind of plagiarism, cheating and unauthorized collaboration.\n",
        "\n",
        "1. **Implementation Questions**\n",
        "    - You are <u> strictly prohibited </u> to read code snippets from your classmates.\n",
        "    - You are <u> strictly prohibited </u> from *copying* code from any external source, except for Q&A websites like Stack Overflow. If you do use code from such sources, it is imperative to properly attribute and mention the source in your implementation.\n",
        "\n",
        "2. **Non-implementation questions**\n",
        "    - You should use your own words and not just copying the answers from ChatGPT or any other source on the web.\n",
        "    - Please provide the source for any material you are using to answer the questions.\n",
        "    - You are <u> strictly prohibited </u> to read and copy the answers of your classmates.\n",
        "\n",
        "If we suspect that you have violated any of the above rules, you may lose the whole score of that exercise.\n",
        "\n",
        "<font color='RED' size='+1'>**Important Note:**</font> Remember that <u>interpreting and analyzing</u> your code is just as important as the implementation itself. Therefore, it is crucial to not only write code but also to <u>document and provide detailed analysis</u> of the results and insights derived from the code. This analysis should explain the significance of the findings, highlight any patterns or trends observed, and offer interpretations that contribute to a deeper understanding of the data or problem at hand. Additionally, ensure that your code is <u>well-commented</u> to enhance its readability and facilitate comprehension.\n",
        "\n",
        "\n",
        "As your teaching assistants, we are here to support your learning journey throughout the Fall 2023 semester. If you have any questions about the course material, need guidance on assignments, or seek additional resources, please don't hesitate to reach out to us.\n",
        "\n",
        "Best regards, </br>\n",
        "Sina Abbasi, Armin Tourajmehr"
      ],
      "metadata": {
        "id": "ts6G_sYkXR1w"
      }
    },
    {
      "cell_type": "markdown",
      "source": [
        "# End-to-End Machine Learning Project\n",
        "\n",
        "For your first exercise, we will go through different steps of an ML task and try to solve a problem on a real-world dataset.\n",
        "This exercise covers the $2^{nd}$ chapter of the *Hands-On Machine Learning* book, which is your main resource for this course. You can refer to the book for more details about each of these steps."
      ],
      "metadata": {
        "id": "GTsNHpO6Qtvb"
      }
    },
    {
      "cell_type": "markdown",
      "source": [
        "## Look at the Big Picture\n",
        "\n"
      ],
      "metadata": {
        "id": "2F7-BcG8RsuH"
      }
    },
    {
      "cell_type": "markdown",
      "source": [
        "### Frame the Problem\n",
        "\n",
        "We use ML to solve a problem. This could be detecting whether an email is spam or not, or estimating the price of a house based on its features. As we can see, different problems have different goals, and the goal is not probably just building a model. In an ML task, this goal is called objective, and the objective is always an essential part of any ML task because it determines what we are looking for. Based on that, we can choose the most appropriate algorithm and performance measure to tackle the problem. Another valuable thing to know is the current solution, whether as a clue to solve the task at hand or as a reference for performance.\n",
        "\n",
        "With all this information, you are now ready to start designing your system. First, determine what kind of training supervision the model will need: is it a supervised, unsupervised, semi-supervised, self-supervised, or reinforcement learning task?\n",
        "\n",
        "<font color='#D61E85' size='+2'>**Q1:**</font> Explain each of these five kind of supervision in one paragraph. Provide an example for each one of them.\n"
      ],
      "metadata": {
        "id": "wC268ikgSFvh"
      }
    },
    {
      "cell_type": "markdown",
      "source": [
        "<font color='#8FCF26' size='+2'>**A1:**</font>\n",
        "\n",
        "\n",
        "*   **supervised learning**: In  supervised  learning,  the  training  set  you  feed  to  the algorithm includes the desired solutions, called labels. For example, detecting spam emails based on a set of emails that are labled \"spam\" or \"not-spam\" is a supervised problem.\n",
        "*   **unsupervised learning**: In unsupervised learning, the training data is unlabeled. The system tries to learn without a teacher. Anomaly detection is an example of an unsupervised problem when you have a collection of data without any label and your task is to find data point that is not similar to others.\n",
        "\n",
        "\n",
        "*   **semi-supervised learning**: In some cases, data labeling is time-consuming and costly: We usually have plenty of unlabeled instances, and few labeled instances. Semi-supervised learning can deal with data that’s partially labeled.  Semi-supervised techniques assist in segmenting images into meaningful parts. By leveraging unlabeled data, these models learn intricate patterns within images, aiding tasks like object recognition and medical image analysis.\n",
        "*   **self-supervised learning**: Where a model learns to represent data without explicit supervision, meaning it doesn't require labeled data during training. Instead, the algorithm generates labels from the data itself. One common approach is contrastive learning, where the model learns to bring similar data points closer in the learned representation space while pushing dissimilar points apart. For example, CLIP is an outstanding model in the area of contrastive learning where model learns which images are similar to each other or not.\n",
        "\n",
        "\n",
        "*   **reinforcement learning**:In reinforcement learning, we have an agent which can observe the environment, select and perform actions, and get rewards in return. After observing the outcome of each action, It must then learn by itself what is the best strategy, called a policy, to get the most reward over time. A policy defines what action the agent should choose when it is in a given situation. Game playing can be categorized as an instance of reinforcement learning for example when a robot should compete against a human in games like chess, go and ... and the aim is to find best strategy to win the game.\n",
        "\n",
        "\n",
        "\n",
        "\n",
        "\n"
      ],
      "metadata": {
        "id": "cGLjyBhzigUI"
      }
    },
    {
      "cell_type": "markdown",
      "source": [
        "### Select a Performance Measure\n",
        "\n",
        "In ML, a performance measure, also known as an evaluation metric, is a measure used to assess the performance or effectiveness of a machine learning model. It quantifies how well the model is able to accomplish its intended task. The choice of performance measure depends on the specific problem and the desired objective."
      ],
      "metadata": {
        "id": "PdNotLKDlFiC"
      }
    },
    {
      "cell_type": "markdown",
      "source": [
        "## Data\n",
        "\n",
        "It serves as the foundation for model training and the model looking for the patterns in the data provided in order to make predictions on unseen samples. The data we chose for this exercise is Medical Cost Personal Datasets, which you can learn more about it in the next section.\n",
        "\n",
        "\n"
      ],
      "metadata": {
        "id": "2Dy0mkPmnAFP"
      }
    },
    {
      "cell_type": "markdown",
      "source": [
        "### About the Data\n",
        "\n",
        "The meaning of each column in the dataset is as follows:\n",
        "\n",
        "* **age:** age of primary beneficiary\n",
        "* **sex:** insurance contractor gender, female, male\n",
        "* **bmi:** Body mass index, providing an understanding of body, weights that are relatively high or low relative to height, objective index of body weight $(kg / m ^ 2)$ using the ratio of height to weight, ideally 18.5 to 24.9\n",
        "* **children:** Number of children covered by health insurance / Number of dependents\n",
        "* **smoker:** Smoking\n",
        "* **region:** the beneficiary's residential area in the US, northeast, southeast, southwest, northwest.\n",
        "* **charges:** Individual medical costs billed by health insurance"
      ],
      "metadata": {
        "id": "i3lmC0eRmXr9"
      }
    },
    {
      "cell_type": "markdown",
      "source": [
        "<font color='#D61E85' size='+2'>**Q2:**</font> The data provided for this exercise can be used for both classification and regression tasks. Explain the difference between classification and regression tasks in just one paragraph by making use of examples. Now, consider we are trying to estimate individual medical costs billed by health insurance using the data provided. What type of supervision can we use for it?"
      ],
      "metadata": {
        "id": "2DXd0vYOl-wo"
      }
    },
    {
      "cell_type": "markdown",
      "source": [
        "<font color='#8FCF26' size='+2'>**A2:**</font>\n",
        "Regression and Classification differ in their output and the nature of the predicted variable. Regression involves predicting a continuous output or a numerical value within a specific range. It is used when the target variable is quantitative. For example when your task is to predict the price of houses based on different features. Classification, on the other hand, deals with predicting which category or class an input belongs to. The output variable in classification is categorical. For insatnce, when you have an face recognition system and you should recognize that if a face belongs to a certain person or not. In summary, regression predicts a numerical value, while classification predicts a category or class.\n",
        "\n",
        "According to this, estimating medical costs is a regression problem"
      ],
      "metadata": {
        "id": "SREb7s9HjdOq"
      }
    },
    {
      "cell_type": "markdown",
      "source": [
        "<font color='#D61E85' size='+2'>**Q3:**</font> Considering the fact that we want to estimate medical costs billed by health insurance for each person, we know it’s a regression task. The performance measures we can use are MAE, MSE, MAPE, and R2-score. Write down the equation and explain the intuition behind each of them."
      ],
      "metadata": {
        "id": "OdfCvIt_oy5i"
      }
    },
    {
      "cell_type": "markdown",
      "source": [
        "<font color='#8FCF26' size='+2'>**A3:**</font>\n",
        "\n",
        "\n",
        "*   **Mean Absolute Error (MAE)**: MAE calculates the average of the absolute differences between predicted and actual values, ignoring the direction of the errors. Lower MAE values indicate better prediction accuracy. MAE means you are measuring how far off, on average, your predictions are from the actual outcomes\n",
        "$MAE = \\frac{1}{n} \\sum_{i=1}^{n} |y_i - \\hat{y}_i|$\n",
        "\n",
        "*   **Mean Squared Error (MSE)**: MSE is used to measure the average squared differences between predicted values and actual values in a dataset. MSE penalizes larger errors more significantly than smaller ones, making it sensitive to outliers. Sqauring in MSE provide us some key features: It will penalize larger errors becuase when your error large, its square is so much larger so it emphasize on reducing errors. On the other hand, squaring will remove the sign from the errors. This is important because sometimes you might be interested in just how far off your prediction was, regardless of the direction of the error. $MSE = \\frac{1}{n} \\sum_{i=1}^{n} (y_i - \\hat{y}_i)^2\n",
        "$\n",
        "\n",
        "\n",
        "*   **Mean Absolute Percentage Error (MAPE)**: MAPE calculates the average of the absolute percentage differences between predicted and actual values. It expresses the prediction errors as a percentage of the actual values, making it easy to interpret. MAPE is particularly useful when dealing with data of varying scales or units, because it is scale-independent, meaning it doesn't depend on the unit of measurement $MAPE = \\frac{1}{n} \\sum_{i=1}^{n} \\left| \\frac{y_i - \\hat{y}_i}{y_i} \\right| \\times 100\\%\n",
        "$\n",
        "*   **R2-Score**: R2-score, or R-squared, is a statistical measure of how well a regression model explains the variance in a dependent variable (the variable you're trying to predict). R2-score ranges from 0 to 1. A value closer to 1 indicates that a larger proportion of the variance in the dependent variable is predictable from the independent variables (the variables you're using for prediction), suggesting a better fit of the regression model. $R^2 = 1 - \\frac{\\sum_{i=1}^{n} (y_i - \\hat{y}_i)^2}{\\sum_{i=1}^{n} (y_i - \\bar{y})^2}\n",
        "$\n",
        "\n",
        "In all of the above formulas we have:\n",
        "\n",
        "\n",
        "*   $y_i$ : the actual value of the i-th data point.\n",
        "*   $\\hat{y}_i$ : the predicted value of the i-th data point\n",
        "*   $\\bar{y}$ : the mean of the actual values\n",
        "\n",
        "\n",
        "\n",
        "\n",
        "\n"
      ],
      "metadata": {
        "id": "a7C23wpVm6Cf"
      }
    },
    {
      "cell_type": "markdown",
      "source": [
        "Finding the data is not all that matters. Before you can start to build your model and predict, you need to get insights about data, which could be done using simple methods such as `info()`, `head()`, `describe()`, and `value_counts()`. You can also visualize the data for more insights, which we get to that in the next part of our checklist.\n",
        "\n",
        "<font color='#D61E85' size='+2'>**Q4:**</font> Try to perform these methods on our dataset and get some insight about it. Is there any other methods to use?\n",
        "\n",
        "<font color='#8FCF26' size='+2'>**A4:**</font> Create some cell down below to write and run your code."
      ],
      "metadata": {
        "id": "ywJrhJEZAsH_"
      }
    },
    {
      "cell_type": "markdown",
      "source": [
        "**Import Libraries**"
      ],
      "metadata": {
        "id": "gVDPzfyIBUfl"
      }
    },
    {
      "cell_type": "code",
      "source": [
        "import pandas as pd\n",
        "import numpy as np\n",
        "from sklearn.model_selection import train_test_split\n",
        "import matplotlib.pyplot as plt\n",
        "import seaborn as sns\n",
        "from pandas.plotting import scatter_matrix\n",
        "from sklearn.impute import SimpleImputer\n",
        "from sklearn.preprocessing import OneHotEncoder, StandardScaler, FunctionTransformer\n",
        "from sklearn.pipeline import Pipeline, make_pipeline\n",
        "from sklearn.compose import ColumnTransformer\n",
        "from sklearn.ensemble import RandomForestRegressor\n",
        "from sklearn.metrics import mean_squared_error\n",
        "\n",
        "np.random.seed(42)"
      ],
      "metadata": {
        "id": "cH2rIlD7_hx0"
      },
      "execution_count": 1,
      "outputs": []
    },
    {
      "cell_type": "code",
      "source": [
        "path = \"/content/insurance.csv\"\n",
        "df_original = pd.read_csv(path)\n",
        "df = df_original.copy()\n",
        "df.head()"
      ],
      "metadata": {
        "colab": {
          "base_uri": "https://localhost:8080/",
          "height": 206
        },
        "id": "SgY1aoakBTOM",
        "outputId": "cde982b0-4bc1-4fa8-bcaf-1adcd91c8de7"
      },
      "execution_count": 2,
      "outputs": [
        {
          "output_type": "execute_result",
          "data": {
            "text/plain": [
              "  age     sex     bmi  children smoker     region      charges\n",
              "0  19  female  27.900         0    yes  southwest  16884.92400\n",
              "1  18    male  33.770         1     no  southeast   1725.55230\n",
              "2  28    male  33.000         3     no  southeast   4449.46200\n",
              "3  33    male  22.705         0     no  northwest  21984.47061\n",
              "4  32    male  28.880         0     no  northwest   3866.85520"
            ],
            "text/html": [
              "\n",
              "  <div id=\"df-ff62c696-15fb-4090-862d-cfb8c47277be\" class=\"colab-df-container\">\n",
              "    <div>\n",
              "<style scoped>\n",
              "    .dataframe tbody tr th:only-of-type {\n",
              "        vertical-align: middle;\n",
              "    }\n",
              "\n",
              "    .dataframe tbody tr th {\n",
              "        vertical-align: top;\n",
              "    }\n",
              "\n",
              "    .dataframe thead th {\n",
              "        text-align: right;\n",
              "    }\n",
              "</style>\n",
              "<table border=\"1\" class=\"dataframe\">\n",
              "  <thead>\n",
              "    <tr style=\"text-align: right;\">\n",
              "      <th></th>\n",
              "      <th>age</th>\n",
              "      <th>sex</th>\n",
              "      <th>bmi</th>\n",
              "      <th>children</th>\n",
              "      <th>smoker</th>\n",
              "      <th>region</th>\n",
              "      <th>charges</th>\n",
              "    </tr>\n",
              "  </thead>\n",
              "  <tbody>\n",
              "    <tr>\n",
              "      <th>0</th>\n",
              "      <td>19</td>\n",
              "      <td>female</td>\n",
              "      <td>27.900</td>\n",
              "      <td>0</td>\n",
              "      <td>yes</td>\n",
              "      <td>southwest</td>\n",
              "      <td>16884.92400</td>\n",
              "    </tr>\n",
              "    <tr>\n",
              "      <th>1</th>\n",
              "      <td>18</td>\n",
              "      <td>male</td>\n",
              "      <td>33.770</td>\n",
              "      <td>1</td>\n",
              "      <td>no</td>\n",
              "      <td>southeast</td>\n",
              "      <td>1725.55230</td>\n",
              "    </tr>\n",
              "    <tr>\n",
              "      <th>2</th>\n",
              "      <td>28</td>\n",
              "      <td>male</td>\n",
              "      <td>33.000</td>\n",
              "      <td>3</td>\n",
              "      <td>no</td>\n",
              "      <td>southeast</td>\n",
              "      <td>4449.46200</td>\n",
              "    </tr>\n",
              "    <tr>\n",
              "      <th>3</th>\n",
              "      <td>33</td>\n",
              "      <td>male</td>\n",
              "      <td>22.705</td>\n",
              "      <td>0</td>\n",
              "      <td>no</td>\n",
              "      <td>northwest</td>\n",
              "      <td>21984.47061</td>\n",
              "    </tr>\n",
              "    <tr>\n",
              "      <th>4</th>\n",
              "      <td>32</td>\n",
              "      <td>male</td>\n",
              "      <td>28.880</td>\n",
              "      <td>0</td>\n",
              "      <td>no</td>\n",
              "      <td>northwest</td>\n",
              "      <td>3866.85520</td>\n",
              "    </tr>\n",
              "  </tbody>\n",
              "</table>\n",
              "</div>\n",
              "    <div class=\"colab-df-buttons\">\n",
              "\n",
              "  <div class=\"colab-df-container\">\n",
              "    <button class=\"colab-df-convert\" onclick=\"convertToInteractive('df-ff62c696-15fb-4090-862d-cfb8c47277be')\"\n",
              "            title=\"Convert this dataframe to an interactive table.\"\n",
              "            style=\"display:none;\">\n",
              "\n",
              "  <svg xmlns=\"http://www.w3.org/2000/svg\" height=\"24px\" viewBox=\"0 -960 960 960\">\n",
              "    <path d=\"M120-120v-720h720v720H120Zm60-500h600v-160H180v160Zm220 220h160v-160H400v160Zm0 220h160v-160H400v160ZM180-400h160v-160H180v160Zm440 0h160v-160H620v160ZM180-180h160v-160H180v160Zm440 0h160v-160H620v160Z\"/>\n",
              "  </svg>\n",
              "    </button>\n",
              "\n",
              "  <style>\n",
              "    .colab-df-container {\n",
              "      display:flex;\n",
              "      gap: 12px;\n",
              "    }\n",
              "\n",
              "    .colab-df-convert {\n",
              "      background-color: #E8F0FE;\n",
              "      border: none;\n",
              "      border-radius: 50%;\n",
              "      cursor: pointer;\n",
              "      display: none;\n",
              "      fill: #1967D2;\n",
              "      height: 32px;\n",
              "      padding: 0 0 0 0;\n",
              "      width: 32px;\n",
              "    }\n",
              "\n",
              "    .colab-df-convert:hover {\n",
              "      background-color: #E2EBFA;\n",
              "      box-shadow: 0px 1px 2px rgba(60, 64, 67, 0.3), 0px 1px 3px 1px rgba(60, 64, 67, 0.15);\n",
              "      fill: #174EA6;\n",
              "    }\n",
              "\n",
              "    .colab-df-buttons div {\n",
              "      margin-bottom: 4px;\n",
              "    }\n",
              "\n",
              "    [theme=dark] .colab-df-convert {\n",
              "      background-color: #3B4455;\n",
              "      fill: #D2E3FC;\n",
              "    }\n",
              "\n",
              "    [theme=dark] .colab-df-convert:hover {\n",
              "      background-color: #434B5C;\n",
              "      box-shadow: 0px 1px 3px 1px rgba(0, 0, 0, 0.15);\n",
              "      filter: drop-shadow(0px 1px 2px rgba(0, 0, 0, 0.3));\n",
              "      fill: #FFFFFF;\n",
              "    }\n",
              "  </style>\n",
              "\n",
              "    <script>\n",
              "      const buttonEl =\n",
              "        document.querySelector('#df-ff62c696-15fb-4090-862d-cfb8c47277be button.colab-df-convert');\n",
              "      buttonEl.style.display =\n",
              "        google.colab.kernel.accessAllowed ? 'block' : 'none';\n",
              "\n",
              "      async function convertToInteractive(key) {\n",
              "        const element = document.querySelector('#df-ff62c696-15fb-4090-862d-cfb8c47277be');\n",
              "        const dataTable =\n",
              "          await google.colab.kernel.invokeFunction('convertToInteractive',\n",
              "                                                    [key], {});\n",
              "        if (!dataTable) return;\n",
              "\n",
              "        const docLinkHtml = 'Like what you see? Visit the ' +\n",
              "          '<a target=\"_blank\" href=https://colab.research.google.com/notebooks/data_table.ipynb>data table notebook</a>'\n",
              "          + ' to learn more about interactive tables.';\n",
              "        element.innerHTML = '';\n",
              "        dataTable['output_type'] = 'display_data';\n",
              "        await google.colab.output.renderOutput(dataTable, element);\n",
              "        const docLink = document.createElement('div');\n",
              "        docLink.innerHTML = docLinkHtml;\n",
              "        element.appendChild(docLink);\n",
              "      }\n",
              "    </script>\n",
              "  </div>\n",
              "\n",
              "\n",
              "<div id=\"df-4b43eadb-4606-434a-8185-8d77dbee3b70\">\n",
              "  <button class=\"colab-df-quickchart\" onclick=\"quickchart('df-4b43eadb-4606-434a-8185-8d77dbee3b70')\"\n",
              "            title=\"Suggest charts.\"\n",
              "            style=\"display:none;\">\n",
              "\n",
              "<svg xmlns=\"http://www.w3.org/2000/svg\" height=\"24px\"viewBox=\"0 0 24 24\"\n",
              "     width=\"24px\">\n",
              "    <g>\n",
              "        <path d=\"M19 3H5c-1.1 0-2 .9-2 2v14c0 1.1.9 2 2 2h14c1.1 0 2-.9 2-2V5c0-1.1-.9-2-2-2zM9 17H7v-7h2v7zm4 0h-2V7h2v10zm4 0h-2v-4h2v4z\"/>\n",
              "    </g>\n",
              "</svg>\n",
              "  </button>\n",
              "\n",
              "<style>\n",
              "  .colab-df-quickchart {\n",
              "      --bg-color: #E8F0FE;\n",
              "      --fill-color: #1967D2;\n",
              "      --hover-bg-color: #E2EBFA;\n",
              "      --hover-fill-color: #174EA6;\n",
              "      --disabled-fill-color: #AAA;\n",
              "      --disabled-bg-color: #DDD;\n",
              "  }\n",
              "\n",
              "  [theme=dark] .colab-df-quickchart {\n",
              "      --bg-color: #3B4455;\n",
              "      --fill-color: #D2E3FC;\n",
              "      --hover-bg-color: #434B5C;\n",
              "      --hover-fill-color: #FFFFFF;\n",
              "      --disabled-bg-color: #3B4455;\n",
              "      --disabled-fill-color: #666;\n",
              "  }\n",
              "\n",
              "  .colab-df-quickchart {\n",
              "    background-color: var(--bg-color);\n",
              "    border: none;\n",
              "    border-radius: 50%;\n",
              "    cursor: pointer;\n",
              "    display: none;\n",
              "    fill: var(--fill-color);\n",
              "    height: 32px;\n",
              "    padding: 0;\n",
              "    width: 32px;\n",
              "  }\n",
              "\n",
              "  .colab-df-quickchart:hover {\n",
              "    background-color: var(--hover-bg-color);\n",
              "    box-shadow: 0 1px 2px rgba(60, 64, 67, 0.3), 0 1px 3px 1px rgba(60, 64, 67, 0.15);\n",
              "    fill: var(--button-hover-fill-color);\n",
              "  }\n",
              "\n",
              "  .colab-df-quickchart-complete:disabled,\n",
              "  .colab-df-quickchart-complete:disabled:hover {\n",
              "    background-color: var(--disabled-bg-color);\n",
              "    fill: var(--disabled-fill-color);\n",
              "    box-shadow: none;\n",
              "  }\n",
              "\n",
              "  .colab-df-spinner {\n",
              "    border: 2px solid var(--fill-color);\n",
              "    border-color: transparent;\n",
              "    border-bottom-color: var(--fill-color);\n",
              "    animation:\n",
              "      spin 1s steps(1) infinite;\n",
              "  }\n",
              "\n",
              "  @keyframes spin {\n",
              "    0% {\n",
              "      border-color: transparent;\n",
              "      border-bottom-color: var(--fill-color);\n",
              "      border-left-color: var(--fill-color);\n",
              "    }\n",
              "    20% {\n",
              "      border-color: transparent;\n",
              "      border-left-color: var(--fill-color);\n",
              "      border-top-color: var(--fill-color);\n",
              "    }\n",
              "    30% {\n",
              "      border-color: transparent;\n",
              "      border-left-color: var(--fill-color);\n",
              "      border-top-color: var(--fill-color);\n",
              "      border-right-color: var(--fill-color);\n",
              "    }\n",
              "    40% {\n",
              "      border-color: transparent;\n",
              "      border-right-color: var(--fill-color);\n",
              "      border-top-color: var(--fill-color);\n",
              "    }\n",
              "    60% {\n",
              "      border-color: transparent;\n",
              "      border-right-color: var(--fill-color);\n",
              "    }\n",
              "    80% {\n",
              "      border-color: transparent;\n",
              "      border-right-color: var(--fill-color);\n",
              "      border-bottom-color: var(--fill-color);\n",
              "    }\n",
              "    90% {\n",
              "      border-color: transparent;\n",
              "      border-bottom-color: var(--fill-color);\n",
              "    }\n",
              "  }\n",
              "</style>\n",
              "\n",
              "  <script>\n",
              "    async function quickchart(key) {\n",
              "      const quickchartButtonEl =\n",
              "        document.querySelector('#' + key + ' button');\n",
              "      quickchartButtonEl.disabled = true;  // To prevent multiple clicks.\n",
              "      quickchartButtonEl.classList.add('colab-df-spinner');\n",
              "      try {\n",
              "        const charts = await google.colab.kernel.invokeFunction(\n",
              "            'suggestCharts', [key], {});\n",
              "      } catch (error) {\n",
              "        console.error('Error during call to suggestCharts:', error);\n",
              "      }\n",
              "      quickchartButtonEl.classList.remove('colab-df-spinner');\n",
              "      quickchartButtonEl.classList.add('colab-df-quickchart-complete');\n",
              "    }\n",
              "    (() => {\n",
              "      let quickchartButtonEl =\n",
              "        document.querySelector('#df-4b43eadb-4606-434a-8185-8d77dbee3b70 button');\n",
              "      quickchartButtonEl.style.display =\n",
              "        google.colab.kernel.accessAllowed ? 'block' : 'none';\n",
              "    })();\n",
              "  </script>\n",
              "</div>\n",
              "    </div>\n",
              "  </div>\n"
            ]
          },
          "metadata": {},
          "execution_count": 2
        }
      ]
    },
    {
      "cell_type": "markdown",
      "source": [
        "According to this info, we have missing values in these columns and we should handle them:\n",
        "\n",
        "\n",
        "*   sex\n",
        "*   bmi\n",
        "*   region\n",
        "*   charges\n",
        "\n"
      ],
      "metadata": {
        "id": "-d__mzHw8CZl"
      }
    },
    {
      "cell_type": "code",
      "source": [
        "df.info()"
      ],
      "metadata": {
        "colab": {
          "base_uri": "https://localhost:8080/"
        },
        "id": "js7TSHvmCT88",
        "outputId": "399a2d79-f21d-4d43-fded-333ccbaa77e6"
      },
      "execution_count": 3,
      "outputs": [
        {
          "output_type": "stream",
          "name": "stdout",
          "text": [
            "<class 'pandas.core.frame.DataFrame'>\n",
            "RangeIndex: 1338 entries, 0 to 1337\n",
            "Data columns (total 7 columns):\n",
            " #   Column    Non-Null Count  Dtype  \n",
            "---  ------    --------------  -----  \n",
            " 0   age       1338 non-null   object \n",
            " 1   sex       1334 non-null   object \n",
            " 2   bmi       1337 non-null   float64\n",
            " 3   children  1338 non-null   int64  \n",
            " 4   smoker    1338 non-null   object \n",
            " 5   region    1335 non-null   object \n",
            " 6   charges   1327 non-null   float64\n",
            "dtypes: float64(2), int64(1), object(4)\n",
            "memory usage: 73.3+ KB\n"
          ]
        }
      ]
    },
    {
      "cell_type": "markdown",
      "source": [
        "In the children column, the min value is -1 and it is incorrect. We should replace them with another value (maybe 0)."
      ],
      "metadata": {
        "id": "Vy3DTcAH8nyT"
      }
    },
    {
      "cell_type": "code",
      "source": [
        "df.describe()"
      ],
      "metadata": {
        "colab": {
          "base_uri": "https://localhost:8080/",
          "height": 300
        },
        "id": "Q3kCauI2CZE7",
        "outputId": "ae3dff82-2abd-4888-b9c5-7df567697cf2"
      },
      "execution_count": 4,
      "outputs": [
        {
          "output_type": "execute_result",
          "data": {
            "text/plain": [
              "               bmi     children       charges\n",
              "count  1337.000000  1338.000000   1327.000000\n",
              "mean     30.845808     1.127803  13251.386466\n",
              "std       8.745771     1.701587  12115.053915\n",
              "min       0.000000    -1.000000   1121.873900\n",
              "25%      26.220000     0.000000   4729.002375\n",
              "50%      30.400000     1.000000   9304.701900\n",
              "75%      34.700000     2.000000  16582.138605\n",
              "max     231.600000    45.000000  63770.428010"
            ],
            "text/html": [
              "\n",
              "  <div id=\"df-a33fa89a-7050-4e9e-9ddb-cc52f2f86e15\" class=\"colab-df-container\">\n",
              "    <div>\n",
              "<style scoped>\n",
              "    .dataframe tbody tr th:only-of-type {\n",
              "        vertical-align: middle;\n",
              "    }\n",
              "\n",
              "    .dataframe tbody tr th {\n",
              "        vertical-align: top;\n",
              "    }\n",
              "\n",
              "    .dataframe thead th {\n",
              "        text-align: right;\n",
              "    }\n",
              "</style>\n",
              "<table border=\"1\" class=\"dataframe\">\n",
              "  <thead>\n",
              "    <tr style=\"text-align: right;\">\n",
              "      <th></th>\n",
              "      <th>bmi</th>\n",
              "      <th>children</th>\n",
              "      <th>charges</th>\n",
              "    </tr>\n",
              "  </thead>\n",
              "  <tbody>\n",
              "    <tr>\n",
              "      <th>count</th>\n",
              "      <td>1337.000000</td>\n",
              "      <td>1338.000000</td>\n",
              "      <td>1327.000000</td>\n",
              "    </tr>\n",
              "    <tr>\n",
              "      <th>mean</th>\n",
              "      <td>30.845808</td>\n",
              "      <td>1.127803</td>\n",
              "      <td>13251.386466</td>\n",
              "    </tr>\n",
              "    <tr>\n",
              "      <th>std</th>\n",
              "      <td>8.745771</td>\n",
              "      <td>1.701587</td>\n",
              "      <td>12115.053915</td>\n",
              "    </tr>\n",
              "    <tr>\n",
              "      <th>min</th>\n",
              "      <td>0.000000</td>\n",
              "      <td>-1.000000</td>\n",
              "      <td>1121.873900</td>\n",
              "    </tr>\n",
              "    <tr>\n",
              "      <th>25%</th>\n",
              "      <td>26.220000</td>\n",
              "      <td>0.000000</td>\n",
              "      <td>4729.002375</td>\n",
              "    </tr>\n",
              "    <tr>\n",
              "      <th>50%</th>\n",
              "      <td>30.400000</td>\n",
              "      <td>1.000000</td>\n",
              "      <td>9304.701900</td>\n",
              "    </tr>\n",
              "    <tr>\n",
              "      <th>75%</th>\n",
              "      <td>34.700000</td>\n",
              "      <td>2.000000</td>\n",
              "      <td>16582.138605</td>\n",
              "    </tr>\n",
              "    <tr>\n",
              "      <th>max</th>\n",
              "      <td>231.600000</td>\n",
              "      <td>45.000000</td>\n",
              "      <td>63770.428010</td>\n",
              "    </tr>\n",
              "  </tbody>\n",
              "</table>\n",
              "</div>\n",
              "    <div class=\"colab-df-buttons\">\n",
              "\n",
              "  <div class=\"colab-df-container\">\n",
              "    <button class=\"colab-df-convert\" onclick=\"convertToInteractive('df-a33fa89a-7050-4e9e-9ddb-cc52f2f86e15')\"\n",
              "            title=\"Convert this dataframe to an interactive table.\"\n",
              "            style=\"display:none;\">\n",
              "\n",
              "  <svg xmlns=\"http://www.w3.org/2000/svg\" height=\"24px\" viewBox=\"0 -960 960 960\">\n",
              "    <path d=\"M120-120v-720h720v720H120Zm60-500h600v-160H180v160Zm220 220h160v-160H400v160Zm0 220h160v-160H400v160ZM180-400h160v-160H180v160Zm440 0h160v-160H620v160ZM180-180h160v-160H180v160Zm440 0h160v-160H620v160Z\"/>\n",
              "  </svg>\n",
              "    </button>\n",
              "\n",
              "  <style>\n",
              "    .colab-df-container {\n",
              "      display:flex;\n",
              "      gap: 12px;\n",
              "    }\n",
              "\n",
              "    .colab-df-convert {\n",
              "      background-color: #E8F0FE;\n",
              "      border: none;\n",
              "      border-radius: 50%;\n",
              "      cursor: pointer;\n",
              "      display: none;\n",
              "      fill: #1967D2;\n",
              "      height: 32px;\n",
              "      padding: 0 0 0 0;\n",
              "      width: 32px;\n",
              "    }\n",
              "\n",
              "    .colab-df-convert:hover {\n",
              "      background-color: #E2EBFA;\n",
              "      box-shadow: 0px 1px 2px rgba(60, 64, 67, 0.3), 0px 1px 3px 1px rgba(60, 64, 67, 0.15);\n",
              "      fill: #174EA6;\n",
              "    }\n",
              "\n",
              "    .colab-df-buttons div {\n",
              "      margin-bottom: 4px;\n",
              "    }\n",
              "\n",
              "    [theme=dark] .colab-df-convert {\n",
              "      background-color: #3B4455;\n",
              "      fill: #D2E3FC;\n",
              "    }\n",
              "\n",
              "    [theme=dark] .colab-df-convert:hover {\n",
              "      background-color: #434B5C;\n",
              "      box-shadow: 0px 1px 3px 1px rgba(0, 0, 0, 0.15);\n",
              "      filter: drop-shadow(0px 1px 2px rgba(0, 0, 0, 0.3));\n",
              "      fill: #FFFFFF;\n",
              "    }\n",
              "  </style>\n",
              "\n",
              "    <script>\n",
              "      const buttonEl =\n",
              "        document.querySelector('#df-a33fa89a-7050-4e9e-9ddb-cc52f2f86e15 button.colab-df-convert');\n",
              "      buttonEl.style.display =\n",
              "        google.colab.kernel.accessAllowed ? 'block' : 'none';\n",
              "\n",
              "      async function convertToInteractive(key) {\n",
              "        const element = document.querySelector('#df-a33fa89a-7050-4e9e-9ddb-cc52f2f86e15');\n",
              "        const dataTable =\n",
              "          await google.colab.kernel.invokeFunction('convertToInteractive',\n",
              "                                                    [key], {});\n",
              "        if (!dataTable) return;\n",
              "\n",
              "        const docLinkHtml = 'Like what you see? Visit the ' +\n",
              "          '<a target=\"_blank\" href=https://colab.research.google.com/notebooks/data_table.ipynb>data table notebook</a>'\n",
              "          + ' to learn more about interactive tables.';\n",
              "        element.innerHTML = '';\n",
              "        dataTable['output_type'] = 'display_data';\n",
              "        await google.colab.output.renderOutput(dataTable, element);\n",
              "        const docLink = document.createElement('div');\n",
              "        docLink.innerHTML = docLinkHtml;\n",
              "        element.appendChild(docLink);\n",
              "      }\n",
              "    </script>\n",
              "  </div>\n",
              "\n",
              "\n",
              "<div id=\"df-10f03bd9-bdca-43d2-ad24-349774310ccb\">\n",
              "  <button class=\"colab-df-quickchart\" onclick=\"quickchart('df-10f03bd9-bdca-43d2-ad24-349774310ccb')\"\n",
              "            title=\"Suggest charts.\"\n",
              "            style=\"display:none;\">\n",
              "\n",
              "<svg xmlns=\"http://www.w3.org/2000/svg\" height=\"24px\"viewBox=\"0 0 24 24\"\n",
              "     width=\"24px\">\n",
              "    <g>\n",
              "        <path d=\"M19 3H5c-1.1 0-2 .9-2 2v14c0 1.1.9 2 2 2h14c1.1 0 2-.9 2-2V5c0-1.1-.9-2-2-2zM9 17H7v-7h2v7zm4 0h-2V7h2v10zm4 0h-2v-4h2v4z\"/>\n",
              "    </g>\n",
              "</svg>\n",
              "  </button>\n",
              "\n",
              "<style>\n",
              "  .colab-df-quickchart {\n",
              "      --bg-color: #E8F0FE;\n",
              "      --fill-color: #1967D2;\n",
              "      --hover-bg-color: #E2EBFA;\n",
              "      --hover-fill-color: #174EA6;\n",
              "      --disabled-fill-color: #AAA;\n",
              "      --disabled-bg-color: #DDD;\n",
              "  }\n",
              "\n",
              "  [theme=dark] .colab-df-quickchart {\n",
              "      --bg-color: #3B4455;\n",
              "      --fill-color: #D2E3FC;\n",
              "      --hover-bg-color: #434B5C;\n",
              "      --hover-fill-color: #FFFFFF;\n",
              "      --disabled-bg-color: #3B4455;\n",
              "      --disabled-fill-color: #666;\n",
              "  }\n",
              "\n",
              "  .colab-df-quickchart {\n",
              "    background-color: var(--bg-color);\n",
              "    border: none;\n",
              "    border-radius: 50%;\n",
              "    cursor: pointer;\n",
              "    display: none;\n",
              "    fill: var(--fill-color);\n",
              "    height: 32px;\n",
              "    padding: 0;\n",
              "    width: 32px;\n",
              "  }\n",
              "\n",
              "  .colab-df-quickchart:hover {\n",
              "    background-color: var(--hover-bg-color);\n",
              "    box-shadow: 0 1px 2px rgba(60, 64, 67, 0.3), 0 1px 3px 1px rgba(60, 64, 67, 0.15);\n",
              "    fill: var(--button-hover-fill-color);\n",
              "  }\n",
              "\n",
              "  .colab-df-quickchart-complete:disabled,\n",
              "  .colab-df-quickchart-complete:disabled:hover {\n",
              "    background-color: var(--disabled-bg-color);\n",
              "    fill: var(--disabled-fill-color);\n",
              "    box-shadow: none;\n",
              "  }\n",
              "\n",
              "  .colab-df-spinner {\n",
              "    border: 2px solid var(--fill-color);\n",
              "    border-color: transparent;\n",
              "    border-bottom-color: var(--fill-color);\n",
              "    animation:\n",
              "      spin 1s steps(1) infinite;\n",
              "  }\n",
              "\n",
              "  @keyframes spin {\n",
              "    0% {\n",
              "      border-color: transparent;\n",
              "      border-bottom-color: var(--fill-color);\n",
              "      border-left-color: var(--fill-color);\n",
              "    }\n",
              "    20% {\n",
              "      border-color: transparent;\n",
              "      border-left-color: var(--fill-color);\n",
              "      border-top-color: var(--fill-color);\n",
              "    }\n",
              "    30% {\n",
              "      border-color: transparent;\n",
              "      border-left-color: var(--fill-color);\n",
              "      border-top-color: var(--fill-color);\n",
              "      border-right-color: var(--fill-color);\n",
              "    }\n",
              "    40% {\n",
              "      border-color: transparent;\n",
              "      border-right-color: var(--fill-color);\n",
              "      border-top-color: var(--fill-color);\n",
              "    }\n",
              "    60% {\n",
              "      border-color: transparent;\n",
              "      border-right-color: var(--fill-color);\n",
              "    }\n",
              "    80% {\n",
              "      border-color: transparent;\n",
              "      border-right-color: var(--fill-color);\n",
              "      border-bottom-color: var(--fill-color);\n",
              "    }\n",
              "    90% {\n",
              "      border-color: transparent;\n",
              "      border-bottom-color: var(--fill-color);\n",
              "    }\n",
              "  }\n",
              "</style>\n",
              "\n",
              "  <script>\n",
              "    async function quickchart(key) {\n",
              "      const quickchartButtonEl =\n",
              "        document.querySelector('#' + key + ' button');\n",
              "      quickchartButtonEl.disabled = true;  // To prevent multiple clicks.\n",
              "      quickchartButtonEl.classList.add('colab-df-spinner');\n",
              "      try {\n",
              "        const charts = await google.colab.kernel.invokeFunction(\n",
              "            'suggestCharts', [key], {});\n",
              "      } catch (error) {\n",
              "        console.error('Error during call to suggestCharts:', error);\n",
              "      }\n",
              "      quickchartButtonEl.classList.remove('colab-df-spinner');\n",
              "      quickchartButtonEl.classList.add('colab-df-quickchart-complete');\n",
              "    }\n",
              "    (() => {\n",
              "      let quickchartButtonEl =\n",
              "        document.querySelector('#df-10f03bd9-bdca-43d2-ad24-349774310ccb button');\n",
              "      quickchartButtonEl.style.display =\n",
              "        google.colab.kernel.accessAllowed ? 'block' : 'none';\n",
              "    })();\n",
              "  </script>\n",
              "</div>\n",
              "    </div>\n",
              "  </div>\n"
            ]
          },
          "metadata": {},
          "execution_count": 4
        }
      ]
    },
    {
      "cell_type": "code",
      "source": [
        "df['children'] = df['children'].replace(-1, 0)\n",
        "df.describe()"
      ],
      "metadata": {
        "colab": {
          "base_uri": "https://localhost:8080/",
          "height": 300
        },
        "id": "M47suwydlt-t",
        "outputId": "b19e9b1d-b54f-4e06-bc71-076fc301b32c"
      },
      "execution_count": 5,
      "outputs": [
        {
          "output_type": "execute_result",
          "data": {
            "text/plain": [
              "               bmi     children       charges\n",
              "count  1337.000000  1338.000000   1327.000000\n",
              "mean     30.845808     1.128550  13251.386466\n",
              "std       8.745771     1.700871  12115.053915\n",
              "min       0.000000     0.000000   1121.873900\n",
              "25%      26.220000     0.000000   4729.002375\n",
              "50%      30.400000     1.000000   9304.701900\n",
              "75%      34.700000     2.000000  16582.138605\n",
              "max     231.600000    45.000000  63770.428010"
            ],
            "text/html": [
              "\n",
              "  <div id=\"df-3222142f-58ad-4766-9059-9497a1eb722e\" class=\"colab-df-container\">\n",
              "    <div>\n",
              "<style scoped>\n",
              "    .dataframe tbody tr th:only-of-type {\n",
              "        vertical-align: middle;\n",
              "    }\n",
              "\n",
              "    .dataframe tbody tr th {\n",
              "        vertical-align: top;\n",
              "    }\n",
              "\n",
              "    .dataframe thead th {\n",
              "        text-align: right;\n",
              "    }\n",
              "</style>\n",
              "<table border=\"1\" class=\"dataframe\">\n",
              "  <thead>\n",
              "    <tr style=\"text-align: right;\">\n",
              "      <th></th>\n",
              "      <th>bmi</th>\n",
              "      <th>children</th>\n",
              "      <th>charges</th>\n",
              "    </tr>\n",
              "  </thead>\n",
              "  <tbody>\n",
              "    <tr>\n",
              "      <th>count</th>\n",
              "      <td>1337.000000</td>\n",
              "      <td>1338.000000</td>\n",
              "      <td>1327.000000</td>\n",
              "    </tr>\n",
              "    <tr>\n",
              "      <th>mean</th>\n",
              "      <td>30.845808</td>\n",
              "      <td>1.128550</td>\n",
              "      <td>13251.386466</td>\n",
              "    </tr>\n",
              "    <tr>\n",
              "      <th>std</th>\n",
              "      <td>8.745771</td>\n",
              "      <td>1.700871</td>\n",
              "      <td>12115.053915</td>\n",
              "    </tr>\n",
              "    <tr>\n",
              "      <th>min</th>\n",
              "      <td>0.000000</td>\n",
              "      <td>0.000000</td>\n",
              "      <td>1121.873900</td>\n",
              "    </tr>\n",
              "    <tr>\n",
              "      <th>25%</th>\n",
              "      <td>26.220000</td>\n",
              "      <td>0.000000</td>\n",
              "      <td>4729.002375</td>\n",
              "    </tr>\n",
              "    <tr>\n",
              "      <th>50%</th>\n",
              "      <td>30.400000</td>\n",
              "      <td>1.000000</td>\n",
              "      <td>9304.701900</td>\n",
              "    </tr>\n",
              "    <tr>\n",
              "      <th>75%</th>\n",
              "      <td>34.700000</td>\n",
              "      <td>2.000000</td>\n",
              "      <td>16582.138605</td>\n",
              "    </tr>\n",
              "    <tr>\n",
              "      <th>max</th>\n",
              "      <td>231.600000</td>\n",
              "      <td>45.000000</td>\n",
              "      <td>63770.428010</td>\n",
              "    </tr>\n",
              "  </tbody>\n",
              "</table>\n",
              "</div>\n",
              "    <div class=\"colab-df-buttons\">\n",
              "\n",
              "  <div class=\"colab-df-container\">\n",
              "    <button class=\"colab-df-convert\" onclick=\"convertToInteractive('df-3222142f-58ad-4766-9059-9497a1eb722e')\"\n",
              "            title=\"Convert this dataframe to an interactive table.\"\n",
              "            style=\"display:none;\">\n",
              "\n",
              "  <svg xmlns=\"http://www.w3.org/2000/svg\" height=\"24px\" viewBox=\"0 -960 960 960\">\n",
              "    <path d=\"M120-120v-720h720v720H120Zm60-500h600v-160H180v160Zm220 220h160v-160H400v160Zm0 220h160v-160H400v160ZM180-400h160v-160H180v160Zm440 0h160v-160H620v160ZM180-180h160v-160H180v160Zm440 0h160v-160H620v160Z\"/>\n",
              "  </svg>\n",
              "    </button>\n",
              "\n",
              "  <style>\n",
              "    .colab-df-container {\n",
              "      display:flex;\n",
              "      gap: 12px;\n",
              "    }\n",
              "\n",
              "    .colab-df-convert {\n",
              "      background-color: #E8F0FE;\n",
              "      border: none;\n",
              "      border-radius: 50%;\n",
              "      cursor: pointer;\n",
              "      display: none;\n",
              "      fill: #1967D2;\n",
              "      height: 32px;\n",
              "      padding: 0 0 0 0;\n",
              "      width: 32px;\n",
              "    }\n",
              "\n",
              "    .colab-df-convert:hover {\n",
              "      background-color: #E2EBFA;\n",
              "      box-shadow: 0px 1px 2px rgba(60, 64, 67, 0.3), 0px 1px 3px 1px rgba(60, 64, 67, 0.15);\n",
              "      fill: #174EA6;\n",
              "    }\n",
              "\n",
              "    .colab-df-buttons div {\n",
              "      margin-bottom: 4px;\n",
              "    }\n",
              "\n",
              "    [theme=dark] .colab-df-convert {\n",
              "      background-color: #3B4455;\n",
              "      fill: #D2E3FC;\n",
              "    }\n",
              "\n",
              "    [theme=dark] .colab-df-convert:hover {\n",
              "      background-color: #434B5C;\n",
              "      box-shadow: 0px 1px 3px 1px rgba(0, 0, 0, 0.15);\n",
              "      filter: drop-shadow(0px 1px 2px rgba(0, 0, 0, 0.3));\n",
              "      fill: #FFFFFF;\n",
              "    }\n",
              "  </style>\n",
              "\n",
              "    <script>\n",
              "      const buttonEl =\n",
              "        document.querySelector('#df-3222142f-58ad-4766-9059-9497a1eb722e button.colab-df-convert');\n",
              "      buttonEl.style.display =\n",
              "        google.colab.kernel.accessAllowed ? 'block' : 'none';\n",
              "\n",
              "      async function convertToInteractive(key) {\n",
              "        const element = document.querySelector('#df-3222142f-58ad-4766-9059-9497a1eb722e');\n",
              "        const dataTable =\n",
              "          await google.colab.kernel.invokeFunction('convertToInteractive',\n",
              "                                                    [key], {});\n",
              "        if (!dataTable) return;\n",
              "\n",
              "        const docLinkHtml = 'Like what you see? Visit the ' +\n",
              "          '<a target=\"_blank\" href=https://colab.research.google.com/notebooks/data_table.ipynb>data table notebook</a>'\n",
              "          + ' to learn more about interactive tables.';\n",
              "        element.innerHTML = '';\n",
              "        dataTable['output_type'] = 'display_data';\n",
              "        await google.colab.output.renderOutput(dataTable, element);\n",
              "        const docLink = document.createElement('div');\n",
              "        docLink.innerHTML = docLinkHtml;\n",
              "        element.appendChild(docLink);\n",
              "      }\n",
              "    </script>\n",
              "  </div>\n",
              "\n",
              "\n",
              "<div id=\"df-8b1679a7-ac86-4166-81a5-03cc922eda0e\">\n",
              "  <button class=\"colab-df-quickchart\" onclick=\"quickchart('df-8b1679a7-ac86-4166-81a5-03cc922eda0e')\"\n",
              "            title=\"Suggest charts.\"\n",
              "            style=\"display:none;\">\n",
              "\n",
              "<svg xmlns=\"http://www.w3.org/2000/svg\" height=\"24px\"viewBox=\"0 0 24 24\"\n",
              "     width=\"24px\">\n",
              "    <g>\n",
              "        <path d=\"M19 3H5c-1.1 0-2 .9-2 2v14c0 1.1.9 2 2 2h14c1.1 0 2-.9 2-2V5c0-1.1-.9-2-2-2zM9 17H7v-7h2v7zm4 0h-2V7h2v10zm4 0h-2v-4h2v4z\"/>\n",
              "    </g>\n",
              "</svg>\n",
              "  </button>\n",
              "\n",
              "<style>\n",
              "  .colab-df-quickchart {\n",
              "      --bg-color: #E8F0FE;\n",
              "      --fill-color: #1967D2;\n",
              "      --hover-bg-color: #E2EBFA;\n",
              "      --hover-fill-color: #174EA6;\n",
              "      --disabled-fill-color: #AAA;\n",
              "      --disabled-bg-color: #DDD;\n",
              "  }\n",
              "\n",
              "  [theme=dark] .colab-df-quickchart {\n",
              "      --bg-color: #3B4455;\n",
              "      --fill-color: #D2E3FC;\n",
              "      --hover-bg-color: #434B5C;\n",
              "      --hover-fill-color: #FFFFFF;\n",
              "      --disabled-bg-color: #3B4455;\n",
              "      --disabled-fill-color: #666;\n",
              "  }\n",
              "\n",
              "  .colab-df-quickchart {\n",
              "    background-color: var(--bg-color);\n",
              "    border: none;\n",
              "    border-radius: 50%;\n",
              "    cursor: pointer;\n",
              "    display: none;\n",
              "    fill: var(--fill-color);\n",
              "    height: 32px;\n",
              "    padding: 0;\n",
              "    width: 32px;\n",
              "  }\n",
              "\n",
              "  .colab-df-quickchart:hover {\n",
              "    background-color: var(--hover-bg-color);\n",
              "    box-shadow: 0 1px 2px rgba(60, 64, 67, 0.3), 0 1px 3px 1px rgba(60, 64, 67, 0.15);\n",
              "    fill: var(--button-hover-fill-color);\n",
              "  }\n",
              "\n",
              "  .colab-df-quickchart-complete:disabled,\n",
              "  .colab-df-quickchart-complete:disabled:hover {\n",
              "    background-color: var(--disabled-bg-color);\n",
              "    fill: var(--disabled-fill-color);\n",
              "    box-shadow: none;\n",
              "  }\n",
              "\n",
              "  .colab-df-spinner {\n",
              "    border: 2px solid var(--fill-color);\n",
              "    border-color: transparent;\n",
              "    border-bottom-color: var(--fill-color);\n",
              "    animation:\n",
              "      spin 1s steps(1) infinite;\n",
              "  }\n",
              "\n",
              "  @keyframes spin {\n",
              "    0% {\n",
              "      border-color: transparent;\n",
              "      border-bottom-color: var(--fill-color);\n",
              "      border-left-color: var(--fill-color);\n",
              "    }\n",
              "    20% {\n",
              "      border-color: transparent;\n",
              "      border-left-color: var(--fill-color);\n",
              "      border-top-color: var(--fill-color);\n",
              "    }\n",
              "    30% {\n",
              "      border-color: transparent;\n",
              "      border-left-color: var(--fill-color);\n",
              "      border-top-color: var(--fill-color);\n",
              "      border-right-color: var(--fill-color);\n",
              "    }\n",
              "    40% {\n",
              "      border-color: transparent;\n",
              "      border-right-color: var(--fill-color);\n",
              "      border-top-color: var(--fill-color);\n",
              "    }\n",
              "    60% {\n",
              "      border-color: transparent;\n",
              "      border-right-color: var(--fill-color);\n",
              "    }\n",
              "    80% {\n",
              "      border-color: transparent;\n",
              "      border-right-color: var(--fill-color);\n",
              "      border-bottom-color: var(--fill-color);\n",
              "    }\n",
              "    90% {\n",
              "      border-color: transparent;\n",
              "      border-bottom-color: var(--fill-color);\n",
              "    }\n",
              "  }\n",
              "</style>\n",
              "\n",
              "  <script>\n",
              "    async function quickchart(key) {\n",
              "      const quickchartButtonEl =\n",
              "        document.querySelector('#' + key + ' button');\n",
              "      quickchartButtonEl.disabled = true;  // To prevent multiple clicks.\n",
              "      quickchartButtonEl.classList.add('colab-df-spinner');\n",
              "      try {\n",
              "        const charts = await google.colab.kernel.invokeFunction(\n",
              "            'suggestCharts', [key], {});\n",
              "      } catch (error) {\n",
              "        console.error('Error during call to suggestCharts:', error);\n",
              "      }\n",
              "      quickchartButtonEl.classList.remove('colab-df-spinner');\n",
              "      quickchartButtonEl.classList.add('colab-df-quickchart-complete');\n",
              "    }\n",
              "    (() => {\n",
              "      let quickchartButtonEl =\n",
              "        document.querySelector('#df-8b1679a7-ac86-4166-81a5-03cc922eda0e button');\n",
              "      quickchartButtonEl.style.display =\n",
              "        google.colab.kernel.accessAllowed ? 'block' : 'none';\n",
              "    })();\n",
              "  </script>\n",
              "</div>\n",
              "    </div>\n",
              "  </div>\n"
            ]
          },
          "metadata": {},
          "execution_count": 5
        }
      ]
    },
    {
      "cell_type": "markdown",
      "source": [
        "We can see that some of the regions just have a few data points and most of them (except for north) are another form of ***northeast***. We should replace them with correct form."
      ],
      "metadata": {
        "id": "7z2f7cDJ_mnq"
      }
    },
    {
      "cell_type": "code",
      "source": [
        "df['region'].value_counts()"
      ],
      "metadata": {
        "colab": {
          "base_uri": "https://localhost:8080/"
        },
        "id": "nTyy5Yd6Cp4s",
        "outputId": "6a3a15a6-7598-44d5-c311-85b11cd9f4c6"
      },
      "execution_count": 6,
      "outputs": [
        {
          "output_type": "execute_result",
          "data": {
            "text/plain": [
              "southeast    362\n",
              "northwest    325\n",
              "southwest    324\n",
              "northeast    312\n",
              "NE             6\n",
              "ne             2\n",
              "northest       1\n",
              "north          1\n",
              "eastnorth      1\n",
              "norteast       1\n",
              "Name: region, dtype: int64"
            ]
          },
          "metadata": {},
          "execution_count": 6
        }
      ]
    },
    {
      "cell_type": "markdown",
      "source": [
        "We will replace **\"NE\", \"ne\", \"northest\", \"eastnorth\" and \"norteast\"** with **\"northeast\"**."
      ],
      "metadata": {
        "id": "YY8s40V_mAJK"
      }
    },
    {
      "cell_type": "code",
      "source": [
        "df['region'] = df['region'].replace([\"NE\", \"ne\", \"northest\", \"eastnorth\", \"norteast\"], \"northeast\")\n",
        "df['region'].value_counts()"
      ],
      "metadata": {
        "colab": {
          "base_uri": "https://localhost:8080/"
        },
        "id": "e5I5aFpkmgFV",
        "outputId": "4a6f18e7-44d4-4fc1-cac5-a6f81aa9af53"
      },
      "execution_count": 7,
      "outputs": [
        {
          "output_type": "execute_result",
          "data": {
            "text/plain": [
              "southeast    362\n",
              "northwest    325\n",
              "southwest    324\n",
              "northeast    323\n",
              "north          1\n",
              "Name: region, dtype: int64"
            ]
          },
          "metadata": {},
          "execution_count": 7
        }
      ]
    },
    {
      "cell_type": "markdown",
      "source": [
        "There is a mistake in sex column; female is misspelled (femle). It should be replaced with *female*."
      ],
      "metadata": {
        "id": "YGuelbk-AHzK"
      }
    },
    {
      "cell_type": "code",
      "source": [
        "df['sex'].value_counts()"
      ],
      "metadata": {
        "id": "Yr8lBLPXhC10",
        "outputId": "123f7f1c-c23b-4a8e-edc5-0794f222f563",
        "colab": {
          "base_uri": "https://localhost:8080/"
        }
      },
      "execution_count": 8,
      "outputs": [
        {
          "output_type": "execute_result",
          "data": {
            "text/plain": [
              "male      675\n",
              "female    658\n",
              "femle       1\n",
              "Name: sex, dtype: int64"
            ]
          },
          "metadata": {},
          "execution_count": 8
        }
      ]
    },
    {
      "cell_type": "code",
      "source": [
        "df['sex'] = df['sex'].replace(\"femle\", \"female\")\n",
        "df['sex'].value_counts()"
      ],
      "metadata": {
        "colab": {
          "base_uri": "https://localhost:8080/"
        },
        "id": "qR2qpXW4m51h",
        "outputId": "e26f32fd-34d2-45f2-d07b-325247ef72d7"
      },
      "execution_count": 9,
      "outputs": [
        {
          "output_type": "execute_result",
          "data": {
            "text/plain": [
              "male      675\n",
              "female    659\n",
              "Name: sex, dtype: int64"
            ]
          },
          "metadata": {},
          "execution_count": 9
        }
      ]
    },
    {
      "cell_type": "markdown",
      "source": [
        "Age column is in object format but it is incorrect, the correct type for it is **int**. Another errors are: age in string format, age with floating point, irrelevant data (no) and data that is not in the usual range (241)."
      ],
      "metadata": {
        "id": "dpVCFYq6AjOx"
      }
    },
    {
      "cell_type": "code",
      "source": [
        "df['age'].value_counts()"
      ],
      "metadata": {
        "colab": {
          "base_uri": "https://localhost:8080/"
        },
        "id": "v7JZzU4TZbOv",
        "outputId": "b7912fbb-0605-4085-b3a8-7290e269a4b2"
      },
      "execution_count": 10,
      "outputs": [
        {
          "output_type": "execute_result",
          "data": {
            "text/plain": [
              "18               69\n",
              "19               68\n",
              "50               29\n",
              "20               29\n",
              "45               29\n",
              "51               29\n",
              "52               29\n",
              "47               29\n",
              "46               29\n",
              "49               28\n",
              "22               28\n",
              "21               28\n",
              "54               28\n",
              "24               28\n",
              "25               28\n",
              "26               28\n",
              "48               28\n",
              "27               28\n",
              "28               28\n",
              "23               28\n",
              "31               27\n",
              "40               27\n",
              "43               27\n",
              "29               27\n",
              "30               27\n",
              "53               27\n",
              "42               27\n",
              "44               27\n",
              "33               26\n",
              "57               26\n",
              "32               26\n",
              "41               26\n",
              "55               26\n",
              "34               26\n",
              "56               26\n",
              "39               25\n",
              "38               25\n",
              "58               25\n",
              "35               25\n",
              "59               25\n",
              "37               25\n",
              "36               24\n",
              "61               23\n",
              "63               23\n",
              "62               23\n",
              "60               23\n",
              "64               22\n",
              "no                1\n",
              "fifty - three     1\n",
              "36.5              1\n",
              "241               1\n",
              "Name: age, dtype: int64"
            ]
          },
          "metadata": {},
          "execution_count": 10
        }
      ]
    },
    {
      "cell_type": "code",
      "source": [
        "# incorrect values\n",
        "df['age'] = df['age'].replace(['no', '241'], '0')\n",
        "# string form to numerical form\n",
        "df['age'] = df['age'].replace('fifty - three', '53')\n",
        "# replace floating point with int\n",
        "df['age'] = df['age'].replace('36.5', '36')\n",
        "# convert type to int64\n",
        "df['age'] = df['age'].apply(lambda x: int(x))\n",
        "df['age'] = df['age'].replace(0, np.NaN)\n",
        "df['age'].value_counts()"
      ],
      "metadata": {
        "colab": {
          "base_uri": "https://localhost:8080/"
        },
        "id": "9NPr2HntnS62",
        "outputId": "9e71880f-8993-4976-8465-4b5499fc4f43"
      },
      "execution_count": 11,
      "outputs": [
        {
          "output_type": "execute_result",
          "data": {
            "text/plain": [
              "18.0    69\n",
              "19.0    68\n",
              "50.0    29\n",
              "51.0    29\n",
              "47.0    29\n",
              "46.0    29\n",
              "45.0    29\n",
              "20.0    29\n",
              "52.0    29\n",
              "22.0    28\n",
              "49.0    28\n",
              "54.0    28\n",
              "48.0    28\n",
              "53.0    28\n",
              "21.0    28\n",
              "26.0    28\n",
              "24.0    28\n",
              "23.0    28\n",
              "25.0    28\n",
              "28.0    28\n",
              "27.0    28\n",
              "44.0    27\n",
              "30.0    27\n",
              "31.0    27\n",
              "42.0    27\n",
              "43.0    27\n",
              "29.0    27\n",
              "40.0    27\n",
              "56.0    26\n",
              "57.0    26\n",
              "32.0    26\n",
              "33.0    26\n",
              "41.0    26\n",
              "34.0    26\n",
              "55.0    26\n",
              "37.0    25\n",
              "59.0    25\n",
              "39.0    25\n",
              "58.0    25\n",
              "36.0    25\n",
              "38.0    25\n",
              "35.0    25\n",
              "61.0    23\n",
              "60.0    23\n",
              "62.0    23\n",
              "63.0    23\n",
              "64.0    22\n",
              "Name: age, dtype: int64"
            ]
          },
          "metadata": {},
          "execution_count": 11
        }
      ]
    },
    {
      "cell_type": "markdown",
      "source": [
        "\"no\", \"yes\" and \"not sure\" are acceptable values. Other ones should be converted to one of these values."
      ],
      "metadata": {
        "id": "LS-c_SPlBuwz"
      }
    },
    {
      "cell_type": "code",
      "source": [
        "df['smoker'].value_counts()"
      ],
      "metadata": {
        "colab": {
          "base_uri": "https://localhost:8080/"
        },
        "id": "hdCeM14TfDke",
        "outputId": "6d9c0521-dc08-4e23-d8cd-24fd4f05a2f1"
      },
      "execution_count": 12,
      "outputs": [
        {
          "output_type": "execute_result",
          "data": {
            "text/plain": [
              "no          1056\n",
              "yes          272\n",
              "0              5\n",
              "not sure       1\n",
              "YES            1\n",
              "n              1\n",
              "ye             1\n",
              "No             1\n",
              "Name: smoker, dtype: int64"
            ]
          },
          "metadata": {},
          "execution_count": 12
        }
      ]
    },
    {
      "cell_type": "code",
      "source": [
        "df['smoker'] = df['smoker'].replace(['0','n','No'],'no')\n",
        "df['smoker'] = df['smoker'].replace(['YES','ye'],'yes')\n",
        "df['smoker'].value_counts()"
      ],
      "metadata": {
        "colab": {
          "base_uri": "https://localhost:8080/"
        },
        "id": "1sHMbEALqu_8",
        "outputId": "f20800e4-d9e1-4fef-b10b-15c80567a7f7"
      },
      "execution_count": 13,
      "outputs": [
        {
          "output_type": "execute_result",
          "data": {
            "text/plain": [
              "no          1063\n",
              "yes          274\n",
              "not sure       1\n",
              "Name: smoker, dtype: int64"
            ]
          },
          "metadata": {},
          "execution_count": 13
        }
      ]
    },
    {
      "cell_type": "markdown",
      "source": [
        "**charges** is the feature that we want to predict but it has some missing values. Entries with NaN charges will be removed."
      ],
      "metadata": {
        "id": "8zNZNM6r7AdL"
      }
    },
    {
      "cell_type": "code",
      "source": [
        "df = df[pd.notnull(df['charges'])]"
      ],
      "metadata": {
        "id": "LEEf5F5a7nXt"
      },
      "execution_count": 14,
      "outputs": []
    },
    {
      "cell_type": "code",
      "source": [
        "df.info()"
      ],
      "metadata": {
        "colab": {
          "base_uri": "https://localhost:8080/"
        },
        "id": "-Xike7MNrHTs",
        "outputId": "302b8f69-160e-4fda-c5ff-2c3762187d31"
      },
      "execution_count": 15,
      "outputs": [
        {
          "output_type": "stream",
          "name": "stdout",
          "text": [
            "<class 'pandas.core.frame.DataFrame'>\n",
            "Int64Index: 1327 entries, 0 to 1337\n",
            "Data columns (total 7 columns):\n",
            " #   Column    Non-Null Count  Dtype  \n",
            "---  ------    --------------  -----  \n",
            " 0   age       1325 non-null   float64\n",
            " 1   sex       1323 non-null   object \n",
            " 2   bmi       1326 non-null   float64\n",
            " 3   children  1327 non-null   int64  \n",
            " 4   smoker    1327 non-null   object \n",
            " 5   region    1324 non-null   object \n",
            " 6   charges   1327 non-null   float64\n",
            "dtypes: float64(3), int64(1), object(3)\n",
            "memory usage: 82.9+ KB\n"
          ]
        }
      ]
    },
    {
      "cell_type": "markdown",
      "source": [
        "At last, you need to split the data to train, validation, and test splits. <font color='#D61E85' size='+2'>**Q5:**</font> Why we do this and what is the use of each of them?\n",
        "\n",
        "Rememeber from now on, you must only consider training and validation sets in your analysis and you are not allowed to use the test set except for prediction."
      ],
      "metadata": {
        "id": "uqu3nCKqtAlW"
      }
    },
    {
      "cell_type": "markdown",
      "source": [
        "<font color='#8FCF26' size='+2'>**A5:**</font>\n",
        "Training set is used to train model and we will have best model on training set when training error is at the lowest point. The generalization of the model will be tested by test. In case of low generalization error, our model have a good ability to predict unseen data points. When we have different models if we examine them just by test set, we will choose hyperparameters in a way that fits test data but this is not good. To solve this problem, we hold out part of the training set to evaluate several candidate models and select the best one. This set is called validation set."
      ],
      "metadata": {
        "id": "dfl_mJnq3V6t"
      }
    },
    {
      "cell_type": "markdown",
      "source": [
        "<font color='#D61E85' size='+2'>**Q6:**</font> Split the dataset into training, validation, and test sets using the following ratios: 70% for training, 10% for validation, and 20% for testing.\n",
        "<font color='#8FCF26' size='+2'>**A6:**</font> Create some cell down below to write and run your code."
      ],
      "metadata": {
        "id": "6CNuy1HG3c7k"
      }
    },
    {
      "cell_type": "code",
      "source": [
        "train_set, test_set = train_test_split(df, test_size=0.2, random_state=42)\n",
        "train_set, val_set = train_test_split(train_set, test_size=0.1, random_state=42)"
      ],
      "metadata": {
        "id": "YBAwbsL0NnW6"
      },
      "execution_count": 16,
      "outputs": []
    },
    {
      "cell_type": "markdown",
      "source": [
        "##\tExplore and Visualize the Data to Gain Insights\n",
        "\n",
        "What we did so far was just a quick glance on the data. Now, it's time to get deeper insights about the data.\n"
      ],
      "metadata": {
        "id": "PVLGSv19-tAa"
      }
    },
    {
      "cell_type": "markdown",
      "source": [
        "### Visualizing Geographical Data\n",
        "\n",
        "Histograms, boxplot, pie charts, doughnut charts, line charts, multi-series line charts, bar charts, column charts, stacked bar charts, area charts, scatter plots, bubble charts, etc, are among the charts and diagrams you can draw for the dataset.\n",
        "\n",
        "<font color='#D61E85' size='+2'>**Q7:**</font> Draw some charts and diagrams. You don't need to use all of them, just the ones that will help you to understand the dataset better.\n",
        "\n",
        "<font color='#8FCF26' size='+2'>**A7:**</font> Create some cell down below to write and run your code."
      ],
      "metadata": {
        "id": "IEYnHQeI_1oh"
      }
    },
    {
      "cell_type": "markdown",
      "source": [
        "The following plot shows that with age increase, we also also have increase in health costs. Another point is that in most cases poeple who smoke will have more health charges."
      ],
      "metadata": {
        "id": "Tx0MQuxxVPFE"
      }
    },
    {
      "cell_type": "code",
      "source": [
        "plt.figure(figsize=(8,6))\n",
        "ax = sns.scatterplot(data=df, x='age', y='charges', hue='smoker', palette= ['red','green','yellow'] ,alpha=0.6)\n",
        "ax.set(title='Relation between Age and health costs',\n",
        "       xlabel='Age',\n",
        "       ylabel='charges')\n",
        "plt.show()"
      ],
      "metadata": {
        "colab": {
          "base_uri": "https://localhost:8080/",
          "height": 564
        },
        "id": "jtVfesrpPZ5U",
        "outputId": "614e46a9-27ba-406e-87c8-fd198d455ccb"
      },
      "execution_count": 17,
      "outputs": [
        {
          "output_type": "display_data",
          "data": {
            "text/plain": [
              "<Figure size 800x600 with 1 Axes>"
            ],
            "image/png": "[encoded data removed]"
          },
          "metadata": {}
        }
      ]
    },
    {
      "cell_type": "markdown",
      "source": [
        "The below plot shows the mean of charges based on the region. \"SouthEast\" is the region with the highest charges."
      ],
      "metadata": {
        "id": "Z85zjJHdXyeC"
      }
    },
    {
      "cell_type": "code",
      "source": [
        "plt.figure(figsize=(10,5))\n",
        "ax = sns.barplot(data=df, x='region', y='charges', errorbar=None)\n",
        "ax.set(title = 'Insurance charges based on region',\n",
        "      xlabel = 'Region',\n",
        "      ylabel = 'Charges',\n",
        "      xticklabels = ['SouthWest', 'SouthEast', 'NorthWest', 'NorthEast', 'north'])\n",
        "plt.show()"
      ],
      "metadata": {
        "colab": {
          "base_uri": "https://localhost:8080/",
          "height": 487
        },
        "id": "U8PFgxZIRYjZ",
        "outputId": "58cee06e-ef60-48ce-f796-05abb22b4eb8"
      },
      "execution_count": 18,
      "outputs": [
        {
          "output_type": "display_data",
          "data": {
            "text/plain": [
              "<Figure size 1000x500 with 1 Axes>"
            ],
            "image/png": "[encoded data removed]"
          },
          "metadata": {}
        }
      ]
    },
    {
      "cell_type": "markdown",
      "source": [
        "###\tLook for Correlations\n",
        "\n",
        "At first, what is correlation? You can use the video provided below to learn more about Pearson Correlation.\n",
        "\n",
        "[Pearson's Correlation, Clearly Explained!!!](https://www.youtube.com/watch?v=xZ_z8KWkhXE)\n",
        "\n",
        "<font color='#D61E85' size='+2'>**Q8:**</font> Try to find the correlation between the `charges` column which we want to predict and every other columns using `corr` method. What is the interpretation of these numbers?\n",
        "\n",
        "<font color='#8FCF26' size='+2'>**A8:**</font> Create some cell down below to write and run your code."
      ],
      "metadata": {
        "id": "fYLQ7HNJFued"
      }
    },
    {
      "cell_type": "markdown",
      "source": [
        "Correlation expresses the relation between different features, if two features are highly relative, they will large correlation number and vice versa. The max value for correlation is 1. When corr = 1, a straight line with positive slope can go through the center of every data point. With a largers dataset, we have more confidence to correlation values. This confidence is represented via p-value."
      ],
      "metadata": {
        "id": "OWAImDxbcdv7"
      }
    },
    {
      "cell_type": "markdown",
      "source": [
        "In the following, The correlation of \"charges\" is shown with other values. It seems that \"age\" has the strongest relationship with charges, because it has a higher correlation value with charges. \"children\" and \"bmi\" have a weaker relation with \"charges\""
      ],
      "metadata": {
        "id": "XCLCY_nxfmb9"
      }
    },
    {
      "cell_type": "code",
      "source": [
        "corr_mat = df.corr()\n",
        "corr_mat['charges'].sort_values(ascending=True)"
      ],
      "metadata": {
        "colab": {
          "base_uri": "https://localhost:8080/"
        },
        "id": "G4EWYxRMGaWr",
        "outputId": "56d27a93-7907-4832-f8bc-788e2231d440"
      },
      "execution_count": 19,
      "outputs": [
        {
          "output_type": "stream",
          "name": "stderr",
          "text": [
            "<ipython-input-19-cded36c508db>:1: FutureWarning: The default value of numeric_only in DataFrame.corr is deprecated. In a future version, it will default to False. Select only valid columns or specify the value of numeric_only to silence this warning.\n",
            "  corr_mat = df.corr()\n"
          ]
        },
        {
          "output_type": "execute_result",
          "data": {
            "text/plain": [
              "children    0.061636\n",
              "bmi         0.128977\n",
              "age         0.299247\n",
              "charges     1.000000\n",
              "Name: charges, dtype: float64"
            ]
          },
          "metadata": {},
          "execution_count": 19
        }
      ]
    },
    {
      "cell_type": "markdown",
      "source": [
        "<font color='#D61E85' size='+2'>**Q9:**</font> This time use `scatter_matrix()` function to find correlation between different columns. Choose four columns of your choice. Try to interpret the diagram you draw. The explanations is more important than the diagram.\n",
        "\n",
        "<font color='#8FCF26' size='+2'>**A9:**</font> Create some cell down below to write and run your code."
      ],
      "metadata": {
        "id": "u65LyklxK2v4"
      }
    },
    {
      "cell_type": "markdown",
      "source": [
        "Let's consider some diagonal plots at first. Diagonal plots show data histogram. For \"charges\" we have a distribution with right-skew. Age in most parts has a uniform distribution but it has a peak at first.\n",
        "But about scatter plots, we could have these interpretations:\n",
        "\n",
        "\n",
        "*   There is a strong positive correlation between age and charges. This means that as people get older, they tend to have higher healthcare charges.\n",
        "*   There is a moderate positive correlation between age and BMI. This means that as people get older, they tend to have higher BMIs.\n",
        "\n",
        "In other cases we have weak positive or negative correlation that does not provide us enough useful information.\n"
      ],
      "metadata": {
        "id": "Mpdc0AvHjh41"
      }
    },
    {
      "cell_type": "code",
      "source": [
        "attributes = ['children','bmi','charges','age']\n",
        "scatter_matrix(df[attributes])\n",
        "plt.show()"
      ],
      "metadata": {
        "colab": {
          "base_uri": "https://localhost:8080/",
          "height": 470
        },
        "id": "7J44O3_LHglL",
        "outputId": "13ee97e0-e226-4bae-d82b-81881bf91380"
      },
      "execution_count": 20,
      "outputs": [
        {
          "output_type": "display_data",
          "data": {
            "text/plain": [
              "<Figure size 640x480 with 16 Axes>"
            ],
            "image/png": "[encoded data removed]"
          },
          "metadata": {}
        }
      ]
    },
    {
      "cell_type": "markdown",
      "source": [
        "### Experiment with Attribute Combinations\n",
        "\n",
        "Feature engineering involves creating new features by transforming, combining, or deriving information from existing features in order to improve the performance of a machine learning model. This process aims to enhance the predictive power or capture specific patterns or relationships that may not be apparent in the original features alone.\n",
        "\n",
        "<font color='#D61E85' size='+2'>**Q10:**</font> Try to perform feature engineering for our dataset. After creating these new features, it is important to analyze their correlations with the previous features in the dataset. By employing feature engineering methods and examining correlations, we can effectively expand the feature space and potentially uncover meaningful patterns and relationships within the dataset.\n",
        "\n",
        "**Hint:** One straightforward method is using the division operator to derive new features.\n",
        "\n",
        "<font color='#8FCF26' size='+2'>**A10:**</font> Create some cell down below to write and run your code."
      ],
      "metadata": {
        "id": "ba5ThdRsNb7j"
      }
    },
    {
      "cell_type": "code",
      "source": [
        "for df in [train_set, test_set, val_set]:\n",
        "    df['bmi_per_age'] = df['bmi'] / df['age']\n",
        "    df['children_per_age'] = df['children'] / df['age']"
      ],
      "metadata": {
        "id": "8r22_Zk2m7YM"
      },
      "execution_count": 21,
      "outputs": []
    },
    {
      "cell_type": "markdown",
      "source": [
        "## Prepare the Data for Machine Learning Algorithms\n",
        "\n"
      ],
      "metadata": {
        "id": "f9IP08ecbgqv"
      }
    },
    {
      "cell_type": "markdown",
      "source": [
        "### Data Cleaning\n",
        "\n",
        "Missing values in datasets pose a significant challenge in machine learning. The presence of dirty data, which requires cleaning, can be categorized into various origins, including inconsistent and incomplete data. Inconsistency encompass different forms of the same word, such as \"US,\" \"USA,\" \"United States,\" and so on.\n",
        "Incompleteness, another category of dirty data, refers to missing or insufficient information. For instance, consider a dataset containing information about individuals, including their age, gender, and occupation. If some entries have missing age values, it exemplifies the issue of incompleteness within the dataset.\n",
        "\n",
        "<font color='#D61E85' size='+2'>**Q11:**</font> Dirty data have other origins, such as duplicate, incorrect, and inaccurate data. Try to explain the latter two with the help of examples.\n"
      ],
      "metadata": {
        "id": "6YAgQjwwD2xQ"
      }
    },
    {
      "cell_type": "markdown",
      "source": [
        "<font color='#8FCF26' size='+2'>**A11:**</font>\n",
        "Incorrect data in dataset has many sources. It can happen due to human errors during data entry, sensor malfunctions, software bugs, or issues during data transmission. It can also be as a result of outliers. For example, when we have a positive feature like age or weight but we see negative entries for these features in dataset.\n",
        "\n",
        "Inaccuracy in data can happen because of different reasons such as measurement errors, faulty equipment or even intentional manipulation. For example, when we have a faulty moisture sensor that should measure soil moisture, it will report numbers that are not accurate. Inaccuracy might also stem from outdated information when we don't recieve regular updates about a dataset."
      ],
      "metadata": {
        "id": "ZVmOfQwqpqJd"
      }
    },
    {
      "cell_type": "markdown",
      "source": [
        "<font color='#D61E85' size='+2'>**Q12:**</font> There are two strategies for dealing with incomplete/missing data: *preserving* data points and *ignoring* the missing data. *Ignoring* missing data by dropping rows and columns containing the missing value is destructive. A better solution could be to try to fill these missing values. What are our options for filling these cells in the data?"
      ],
      "metadata": {
        "id": "hJ0R8OT7tuJD"
      }
    },
    {
      "cell_type": "markdown",
      "source": [
        "<font color='#8FCF26' size='+2'>**A12:**</font>\n",
        "There are several sterategies to deal with this problem that I will mention some of them:\n",
        "\n",
        "\n",
        "*   **Mean/Median/Mode Imputation**: In the case of mean, missing values are filled with the mean of the column. It is suitable for numerical data without significant outliers. Median is suitable where we want a robust method to outliers in numerical data. And if we have categorical data, using mode is the best choice.\n",
        "*   **K-Nearest Neighbors (KNN) Imputation**: Predict missing values based on the values of their k-nearest neighbors in the feature space. Suitable for datasets where similar instances have similar values.\n",
        "*   **Iterative Imputation**: In this method, missing values are imputed iteratively using observed values from other variables in the dataset. Multiple imputed datasets are created and combined to preserve variability, relationships, and uncertainty associated with the missing data, leading to more accurate analyses.\n",
        "*   **Use Predictive Models**: A predictive model (like regression or decision trees) is trained to predict missing values based on other features. This method can capture complex relationships in the data.\n"
      ],
      "metadata": {
        "id": "8Hol-Gjn0bdy"
      }
    },
    {
      "cell_type": "markdown",
      "source": [
        "An essential step in data cleaning is to check for validity. What is considered invalid data? check [this link](https://en.wikipedia.org/wiki/Data_cleansing#Data_quality) to find out.\n",
        "\n",
        "<font color='#D61E85' size='+2'>**Q13:**</font> Using the information provided untill now, try to clean the data provided for this exercise. Try to use `fillna()`, `SimpleImputer`, `KNNImputer`, and `IterativeImputer` as *preserving* approaches. What is your preferred strategy? \"most_frequent\", \"mean\", \"median\", ... . Explain your decision."
      ],
      "metadata": {
        "id": "-s7MNrb4DGu_"
      }
    },
    {
      "cell_type": "markdown",
      "source": [
        "<font color='#8FCF26' size='+2'>**A13:**</font> Create some cell down below to write and run your code."
      ],
      "metadata": {
        "id": "250l3lnSDOfv"
      }
    },
    {
      "cell_type": "markdown",
      "source": [
        "At first we separate predictors from labels for train dataset:"
      ],
      "metadata": {
        "id": "K0jztyNh8bAM"
      }
    },
    {
      "cell_type": "code",
      "source": [
        "df_feat = train_set.drop(\"charges\", axis=1)\n",
        "df_labels = train_set['charges'].copy()"
      ],
      "metadata": {
        "id": "aW_9wXrI8aDT"
      },
      "execution_count": 22,
      "outputs": []
    },
    {
      "cell_type": "code",
      "source": [
        "df_feat.info()"
      ],
      "metadata": {
        "colab": {
          "base_uri": "https://localhost:8080/"
        },
        "id": "MELgrsCzoAhl",
        "outputId": "5b0b073b-c536-40d8-82c7-601f522642e7"
      },
      "execution_count": 23,
      "outputs": [
        {
          "output_type": "stream",
          "name": "stdout",
          "text": [
            "<class 'pandas.core.frame.DataFrame'>\n",
            "Int64Index: 954 entries, 1107 to 480\n",
            "Data columns (total 8 columns):\n",
            " #   Column            Non-Null Count  Dtype  \n",
            "---  ------            --------------  -----  \n",
            " 0   age               952 non-null    float64\n",
            " 1   sex               951 non-null    object \n",
            " 2   bmi               954 non-null    float64\n",
            " 3   children          954 non-null    int64  \n",
            " 4   smoker            954 non-null    object \n",
            " 5   region            951 non-null    object \n",
            " 6   bmi_per_age       952 non-null    float64\n",
            " 7   children_per_age  952 non-null    float64\n",
            "dtypes: float64(4), int64(1), object(3)\n",
            "memory usage: 67.1+ KB\n"
          ]
        }
      ]
    },
    {
      "cell_type": "markdown",
      "source": [
        "**\"region\"** and **\"sex\"** are two categorical columns with missing values. Because we are dealing with categorical data, a strategy is to replace missing values with the most frequent data point."
      ],
      "metadata": {
        "id": "H8YydApxoVDy"
      }
    },
    {
      "cell_type": "code",
      "source": [
        "# Specify categorical columns with missing values\n",
        "categorical_columns = [\"sex\", \"region\"]\n",
        "# Create SimpleImputer for categorical columns using the 'most_frequent' strategy\n",
        "imputer = SimpleImputer(strategy=\"most_frequent\")\n",
        "# Apply imputation to the specified columns\n",
        "df_feat[categorical_columns] = imputer.fit_transform(df_feat[categorical_columns])"
      ],
      "metadata": {
        "id": "pKq7uYyYoy6l"
      },
      "execution_count": 24,
      "outputs": []
    },
    {
      "cell_type": "code",
      "source": [
        "df_feat.info()"
      ],
      "metadata": {
        "colab": {
          "base_uri": "https://localhost:8080/"
        },
        "id": "9-zL7kR7_k8x",
        "outputId": "2094ddb9-30ae-4d45-d917-fd959ab08b8f"
      },
      "execution_count": 25,
      "outputs": [
        {
          "output_type": "stream",
          "name": "stdout",
          "text": [
            "<class 'pandas.core.frame.DataFrame'>\n",
            "Int64Index: 954 entries, 1107 to 480\n",
            "Data columns (total 8 columns):\n",
            " #   Column            Non-Null Count  Dtype  \n",
            "---  ------            --------------  -----  \n",
            " 0   age               952 non-null    float64\n",
            " 1   sex               954 non-null    object \n",
            " 2   bmi               954 non-null    float64\n",
            " 3   children          954 non-null    int64  \n",
            " 4   smoker            954 non-null    object \n",
            " 5   region            954 non-null    object \n",
            " 6   bmi_per_age       952 non-null    float64\n",
            " 7   children_per_age  952 non-null    float64\n",
            "dtypes: float64(4), int64(1), object(3)\n",
            "memory usage: 67.1+ KB\n"
          ]
        }
      ]
    },
    {
      "cell_type": "markdown",
      "source": [
        "A good strategy for numerical data is Median Imputation. Median is robust to outliers in numerical data."
      ],
      "metadata": {
        "id": "gOqOSWXBr0xl"
      }
    },
    {
      "cell_type": "code",
      "source": [
        "median_imputer = SimpleImputer(strategy=\"median\")\n",
        "df_num = df_feat.select_dtypes(include=[np.number])\n",
        "df_num.head()"
      ],
      "metadata": {
        "colab": {
          "base_uri": "https://localhost:8080/",
          "height": 206
        },
        "id": "CqnniIE__ud8",
        "outputId": "f11f123b-cacf-4379-bc58-02a7b2703327"
      },
      "execution_count": 26,
      "outputs": [
        {
          "output_type": "execute_result",
          "data": {
            "text/plain": [
              "       age     bmi  children  bmi_per_age  children_per_age\n",
              "1107  50.0  26.220         2     0.524400          0.040000\n",
              "253   27.0  30.300         3     1.122222          0.111111\n",
              "895   61.0  44.000         0     0.721311          0.000000\n",
              "818   47.0  26.125         1     0.555851          0.021277\n",
              "1180  42.0  41.325         1     0.983929          0.023810"
            ],
            "text/html": [
              "\n",
              "  <div id=\"df-f1276c3f-e355-41e2-a323-8699d5af958f\" class=\"colab-df-container\">\n",
              "    <div>\n",
              "<style scoped>\n",
              "    .dataframe tbody tr th:only-of-type {\n",
              "        vertical-align: middle;\n",
              "    }\n",
              "\n",
              "    .dataframe tbody tr th {\n",
              "        vertical-align: top;\n",
              "    }\n",
              "\n",
              "    .dataframe thead th {\n",
              "        text-align: right;\n",
              "    }\n",
              "</style>\n",
              "<table border=\"1\" class=\"dataframe\">\n",
              "  <thead>\n",
              "    <tr style=\"text-align: right;\">\n",
              "      <th></th>\n",
              "      <th>age</th>\n",
              "      <th>bmi</th>\n",
              "      <th>children</th>\n",
              "      <th>bmi_per_age</th>\n",
              "      <th>children_per_age</th>\n",
              "    </tr>\n",
              "  </thead>\n",
              "  <tbody>\n",
              "    <tr>\n",
              "      <th>1107</th>\n",
              "      <td>50.0</td>\n",
              "      <td>26.220</td>\n",
              "      <td>2</td>\n",
              "      <td>0.524400</td>\n",
              "      <td>0.040000</td>\n",
              "    </tr>\n",
              "    <tr>\n",
              "      <th>253</th>\n",
              "      <td>27.0</td>\n",
              "      <td>30.300</td>\n",
              "      <td>3</td>\n",
              "      <td>1.122222</td>\n",
              "      <td>0.111111</td>\n",
              "    </tr>\n",
              "    <tr>\n",
              "      <th>895</th>\n",
              "      <td>61.0</td>\n",
              "      <td>44.000</td>\n",
              "      <td>0</td>\n",
              "      <td>0.721311</td>\n",
              "      <td>0.000000</td>\n",
              "    </tr>\n",
              "    <tr>\n",
              "      <th>818</th>\n",
              "      <td>47.0</td>\n",
              "      <td>26.125</td>\n",
              "      <td>1</td>\n",
              "      <td>0.555851</td>\n",
              "      <td>0.021277</td>\n",
              "    </tr>\n",
              "    <tr>\n",
              "      <th>1180</th>\n",
              "      <td>42.0</td>\n",
              "      <td>41.325</td>\n",
              "      <td>1</td>\n",
              "      <td>0.983929</td>\n",
              "      <td>0.023810</td>\n",
              "    </tr>\n",
              "  </tbody>\n",
              "</table>\n",
              "</div>\n",
              "    <div class=\"colab-df-buttons\">\n",
              "\n",
              "  <div class=\"colab-df-container\">\n",
              "    <button class=\"colab-df-convert\" onclick=\"convertToInteractive('df-f1276c3f-e355-41e2-a323-8699d5af958f')\"\n",
              "            title=\"Convert this dataframe to an interactive table.\"\n",
              "            style=\"display:none;\">\n",
              "\n",
              "  <svg xmlns=\"http://www.w3.org/2000/svg\" height=\"24px\" viewBox=\"0 -960 960 960\">\n",
              "    <path d=\"M120-120v-720h720v720H120Zm60-500h600v-160H180v160Zm220 220h160v-160H400v160Zm0 220h160v-160H400v160ZM180-400h160v-160H180v160Zm440 0h160v-160H620v160ZM180-180h160v-160H180v160Zm440 0h160v-160H620v160Z\"/>\n",
              "  </svg>\n",
              "    </button>\n",
              "\n",
              "  <style>\n",
              "    .colab-df-container {\n",
              "      display:flex;\n",
              "      gap: 12px;\n",
              "    }\n",
              "\n",
              "    .colab-df-convert {\n",
              "      background-color: #E8F0FE;\n",
              "      border: none;\n",
              "      border-radius: 50%;\n",
              "      cursor: pointer;\n",
              "      display: none;\n",
              "      fill: #1967D2;\n",
              "      height: 32px;\n",
              "      padding: 0 0 0 0;\n",
              "      width: 32px;\n",
              "    }\n",
              "\n",
              "    .colab-df-convert:hover {\n",
              "      background-color: #E2EBFA;\n",
              "      box-shadow: 0px 1px 2px rgba(60, 64, 67, 0.3), 0px 1px 3px 1px rgba(60, 64, 67, 0.15);\n",
              "      fill: #174EA6;\n",
              "    }\n",
              "\n",
              "    .colab-df-buttons div {\n",
              "      margin-bottom: 4px;\n",
              "    }\n",
              "\n",
              "    [theme=dark] .colab-df-convert {\n",
              "      background-color: #3B4455;\n",
              "      fill: #D2E3FC;\n",
              "    }\n",
              "\n",
              "    [theme=dark] .colab-df-convert:hover {\n",
              "      background-color: #434B5C;\n",
              "      box-shadow: 0px 1px 3px 1px rgba(0, 0, 0, 0.15);\n",
              "      filter: drop-shadow(0px 1px 2px rgba(0, 0, 0, 0.3));\n",
              "      fill: #FFFFFF;\n",
              "    }\n",
              "  </style>\n",
              "\n",
              "    <script>\n",
              "      const buttonEl =\n",
              "        document.querySelector('#df-f1276c3f-e355-41e2-a323-8699d5af958f button.colab-df-convert');\n",
              "      buttonEl.style.display =\n",
              "        google.colab.kernel.accessAllowed ? 'block' : 'none';\n",
              "\n",
              "      async function convertToInteractive(key) {\n",
              "        const element = document.querySelector('#df-f1276c3f-e355-41e2-a323-8699d5af958f');\n",
              "        const dataTable =\n",
              "          await google.colab.kernel.invokeFunction('convertToInteractive',\n",
              "                                                    [key], {});\n",
              "        if (!dataTable) return;\n",
              "\n",
              "        const docLinkHtml = 'Like what you see? Visit the ' +\n",
              "          '<a target=\"_blank\" href=https://colab.research.google.com/notebooks/data_table.ipynb>data table notebook</a>'\n",
              "          + ' to learn more about interactive tables.';\n",
              "        element.innerHTML = '';\n",
              "        dataTable['output_type'] = 'display_data';\n",
              "        await google.colab.output.renderOutput(dataTable, element);\n",
              "        const docLink = document.createElement('div');\n",
              "        docLink.innerHTML = docLinkHtml;\n",
              "        element.appendChild(docLink);\n",
              "      }\n",
              "    </script>\n",
              "  </div>\n",
              "\n",
              "\n",
              "<div id=\"df-7af924b6-2208-4042-a75e-c115e6637f0f\">\n",
              "  <button class=\"colab-df-quickchart\" onclick=\"quickchart('df-7af924b6-2208-4042-a75e-c115e6637f0f')\"\n",
              "            title=\"Suggest charts.\"\n",
              "            style=\"display:none;\">\n",
              "\n",
              "<svg xmlns=\"http://www.w3.org/2000/svg\" height=\"24px\"viewBox=\"0 0 24 24\"\n",
              "     width=\"24px\">\n",
              "    <g>\n",
              "        <path d=\"M19 3H5c-1.1 0-2 .9-2 2v14c0 1.1.9 2 2 2h14c1.1 0 2-.9 2-2V5c0-1.1-.9-2-2-2zM9 17H7v-7h2v7zm4 0h-2V7h2v10zm4 0h-2v-4h2v4z\"/>\n",
              "    </g>\n",
              "</svg>\n",
              "  </button>\n",
              "\n",
              "<style>\n",
              "  .colab-df-quickchart {\n",
              "      --bg-color: #E8F0FE;\n",
              "      --fill-color: #1967D2;\n",
              "      --hover-bg-color: #E2EBFA;\n",
              "      --hover-fill-color: #174EA6;\n",
              "      --disabled-fill-color: #AAA;\n",
              "      --disabled-bg-color: #DDD;\n",
              "  }\n",
              "\n",
              "  [theme=dark] .colab-df-quickchart {\n",
              "      --bg-color: #3B4455;\n",
              "      --fill-color: #D2E3FC;\n",
              "      --hover-bg-color: #434B5C;\n",
              "      --hover-fill-color: #FFFFFF;\n",
              "      --disabled-bg-color: #3B4455;\n",
              "      --disabled-fill-color: #666;\n",
              "  }\n",
              "\n",
              "  .colab-df-quickchart {\n",
              "    background-color: var(--bg-color);\n",
              "    border: none;\n",
              "    border-radius: 50%;\n",
              "    cursor: pointer;\n",
              "    display: none;\n",
              "    fill: var(--fill-color);\n",
              "    height: 32px;\n",
              "    padding: 0;\n",
              "    width: 32px;\n",
              "  }\n",
              "\n",
              "  .colab-df-quickchart:hover {\n",
              "    background-color: var(--hover-bg-color);\n",
              "    box-shadow: 0 1px 2px rgba(60, 64, 67, 0.3), 0 1px 3px 1px rgba(60, 64, 67, 0.15);\n",
              "    fill: var(--button-hover-fill-color);\n",
              "  }\n",
              "\n",
              "  .colab-df-quickchart-complete:disabled,\n",
              "  .colab-df-quickchart-complete:disabled:hover {\n",
              "    background-color: var(--disabled-bg-color);\n",
              "    fill: var(--disabled-fill-color);\n",
              "    box-shadow: none;\n",
              "  }\n",
              "\n",
              "  .colab-df-spinner {\n",
              "    border: 2px solid var(--fill-color);\n",
              "    border-color: transparent;\n",
              "    border-bottom-color: var(--fill-color);\n",
              "    animation:\n",
              "      spin 1s steps(1) infinite;\n",
              "  }\n",
              "\n",
              "  @keyframes spin {\n",
              "    0% {\n",
              "      border-color: transparent;\n",
              "      border-bottom-color: var(--fill-color);\n",
              "      border-left-color: var(--fill-color);\n",
              "    }\n",
              "    20% {\n",
              "      border-color: transparent;\n",
              "      border-left-color: var(--fill-color);\n",
              "      border-top-color: var(--fill-color);\n",
              "    }\n",
              "    30% {\n",
              "      border-color: transparent;\n",
              "      border-left-color: var(--fill-color);\n",
              "      border-top-color: var(--fill-color);\n",
              "      border-right-color: var(--fill-color);\n",
              "    }\n",
              "    40% {\n",
              "      border-color: transparent;\n",
              "      border-right-color: var(--fill-color);\n",
              "      border-top-color: var(--fill-color);\n",
              "    }\n",
              "    60% {\n",
              "      border-color: transparent;\n",
              "      border-right-color: var(--fill-color);\n",
              "    }\n",
              "    80% {\n",
              "      border-color: transparent;\n",
              "      border-right-color: var(--fill-color);\n",
              "      border-bottom-color: var(--fill-color);\n",
              "    }\n",
              "    90% {\n",
              "      border-color: transparent;\n",
              "      border-bottom-color: var(--fill-color);\n",
              "    }\n",
              "  }\n",
              "</style>\n",
              "\n",
              "  <script>\n",
              "    async function quickchart(key) {\n",
              "      const quickchartButtonEl =\n",
              "        document.querySelector('#' + key + ' button');\n",
              "      quickchartButtonEl.disabled = true;  // To prevent multiple clicks.\n",
              "      quickchartButtonEl.classList.add('colab-df-spinner');\n",
              "      try {\n",
              "        const charts = await google.colab.kernel.invokeFunction(\n",
              "            'suggestCharts', [key], {});\n",
              "      } catch (error) {\n",
              "        console.error('Error during call to suggestCharts:', error);\n",
              "      }\n",
              "      quickchartButtonEl.classList.remove('colab-df-spinner');\n",
              "      quickchartButtonEl.classList.add('colab-df-quickchart-complete');\n",
              "    }\n",
              "    (() => {\n",
              "      let quickchartButtonEl =\n",
              "        document.querySelector('#df-7af924b6-2208-4042-a75e-c115e6637f0f button');\n",
              "      quickchartButtonEl.style.display =\n",
              "        google.colab.kernel.accessAllowed ? 'block' : 'none';\n",
              "    })();\n",
              "  </script>\n",
              "</div>\n",
              "    </div>\n",
              "  </div>\n"
            ]
          },
          "metadata": {},
          "execution_count": 26
        }
      ]
    },
    {
      "cell_type": "code",
      "source": [
        "imputed_data = median_imputer.fit_transform(df_num)"
      ],
      "metadata": {
        "id": "iAQGREba_7a1"
      },
      "execution_count": 27,
      "outputs": []
    },
    {
      "cell_type": "code",
      "source": [
        "df_temp = pd.DataFrame(imputed_data)\n",
        "df_temp.columns = df_num.columns\n",
        "df_temp.info()"
      ],
      "metadata": {
        "colab": {
          "base_uri": "https://localhost:8080/"
        },
        "id": "ZoQRxuVPACYU",
        "outputId": "6b66e9e3-71e7-4958-9f83-d4dfba7ae642"
      },
      "execution_count": 28,
      "outputs": [
        {
          "output_type": "stream",
          "name": "stdout",
          "text": [
            "<class 'pandas.core.frame.DataFrame'>\n",
            "RangeIndex: 954 entries, 0 to 953\n",
            "Data columns (total 5 columns):\n",
            " #   Column            Non-Null Count  Dtype  \n",
            "---  ------            --------------  -----  \n",
            " 0   age               954 non-null    float64\n",
            " 1   bmi               954 non-null    float64\n",
            " 2   children          954 non-null    float64\n",
            " 3   bmi_per_age       954 non-null    float64\n",
            " 4   children_per_age  954 non-null    float64\n",
            "dtypes: float64(5)\n",
            "memory usage: 37.4 KB\n"
          ]
        }
      ]
    },
    {
      "cell_type": "markdown",
      "source": [
        "### Handling Text and Categorical Attributes\n",
        "\n",
        "Machine learning algorithms typically require numerical inputs. By encoding categorical variables into numerical representations, we can include them in our models and leverage their information for predictions and analysis.\n",
        "\n",
        "<font color='#D61E85' size='+2'>**Q14:**</font> Using categorical encoding and one-hot encoding try to transform your dataset, so the model can take advantage of non-numerical attributes. The choice between these two techniques depends on the specific characteristics of the dataset. When would you prefer using one-hot encoding over categorical encoding, or vice versa?\n"
      ],
      "metadata": {
        "id": "L-2WMNyHD84q"
      }
    },
    {
      "cell_type": "markdown",
      "source": [
        "<font color='#8FCF26' size='+2'>**A14:**</font> Create some cell down below to write and run your code."
      ],
      "metadata": {
        "id": "8Ob5fnEZIXiC"
      }
    },
    {
      "cell_type": "markdown",
      "source": [
        "When data classes are limited, Using one-hot encoder is a better way. All of categorical columns have a limited range of classes so we will use one-hot encoder. Categorical encoder is used in cases that the cat column has a diverse set of values and it is not efficient to use one-hot encoding."
      ],
      "metadata": {
        "id": "dPZRrsXW4E4D"
      }
    },
    {
      "cell_type": "code",
      "source": [
        "cols = ['region','smoker','sex']\n",
        "cat_encoder = OneHotEncoder()\n",
        "df_c = cat_encoder.fit_transform(df_feat[cols])"
      ],
      "metadata": {
        "id": "e5eEE5kFe-Bc"
      },
      "execution_count": 29,
      "outputs": []
    },
    {
      "cell_type": "markdown",
      "source": [
        "### Feature Scaling and Transformation\n",
        "\n",
        "According to book:\n",
        "\"There are two common ways to get all attributes to have the same scale: min-max scaling (normalization) and standardization.\"\n",
        "\n",
        "<font color='#D61E85' size='+2'>**Q15:**</font> Why we need feature scaling at all? Between these two common ways which one is more robust to outlier? What happened if we don’t do this in terms of convergence of the model?"
      ],
      "metadata": {
        "id": "f7I1Dv0bIyCU"
      }
    },
    {
      "cell_type": "markdown",
      "source": [
        "<font color='#8FCF26' size='+2'>**A15:**</font>\n",
        "One reason behind this is that many machine learning algorithms are sensitive to the scale of features and if we have data in different scales, they don't perform well. Standardization does not restrict values to a specific range so it is much less affected by outlier (Min-Max scales features to a specific range (usually 0 to 1)).\n",
        "\n",
        "If you don't perform feature scaling:\n",
        "\n",
        "\n",
        "*   **Convergence Issues**: The optimization process might take longer to converge, or it might not converge at all.\n",
        "*   **Unreliable Results**: Even if the model converges, the results might be unreliable. The model could be heavily influenced by features with larger scales, leading to suboptimal performance.\n",
        "\n"
      ],
      "metadata": {
        "id": "dytyP3X0Qotx"
      }
    },
    {
      "cell_type": "markdown",
      "source": [
        "<font color='#D61E85' size='+2'>**Q16:**</font> Try to perform feature scaling to our dataset."
      ],
      "metadata": {
        "id": "D9eDhVZ-RLXz"
      }
    },
    {
      "cell_type": "markdown",
      "source": [
        "<font color='#8FCF26' size='+2'>**A16:**</font>"
      ],
      "metadata": {
        "id": "pdYdkX4fRYGL"
      }
    },
    {
      "cell_type": "code",
      "source": [
        "std_scaler = StandardScaler()\n",
        "df_num_scaled = std_scaler.fit_transform(imputed_data)"
      ],
      "metadata": {
        "id": "TWFlj4HMizPV"
      },
      "execution_count": 30,
      "outputs": []
    },
    {
      "cell_type": "markdown",
      "source": [
        "###\tCustom Transformers\n",
        "\n",
        "\n",
        "*Transformers* definition:\n",
        "\n",
        "> Some estimators (such as a `SimpleImputer`) can also transform a dataset; these are called *transformers*. Once again, the API is simple: the transformation is performed by the `transform()` method with the dataset to transform as a parameter. It returns the transformed dataset. This transformation generally relies on the learned parameters, as is the case for a `SimpleImputer`. All transformers also have a convenience method called `fit_transform()`, which is equivalent to calling `fit()` and then `transform()` (but sometimes `fit_transform()` is optimized and runs much faster).\n",
        "\n",
        "Although Scikit-Learn provides many useful transformers, you will need to write your own for tasks such as custom transformations, cleanup operations, or combining specific attributes. For transformations that don’t require any training, you can just write a function that takes a NumPy array as input and outputs the transformed array. Scikit-learn provides us with `FunctionTransformer` class for these scenarios. Logarithm transformer is one of them which does not need any training.  \n",
        "\n",
        "<font color='#D61E85' size='+2'>**Q17:**</font> What is the use case of logarithm transformer? Try to implement it using `FunctionTransformer` and then use it on our dataset."
      ],
      "metadata": {
        "id": "Gjq7hIcIRwu3"
      }
    },
    {
      "cell_type": "markdown",
      "source": [
        "<font color='#8FCF26' size='+2'>**A17:**</font> Create some cell down below to write and run your code."
      ],
      "metadata": {
        "id": "mAsAk-PuRaoM"
      }
    },
    {
      "cell_type": "markdown",
      "source": [
        " Logarithmic transformations are effective for reducing the impact of skewed data distributions. In some cases, data with different variances can cause issues in machine learning models. Logarithmic transformations can stabilize variance across different levels of the independent variable. Also Log transformations can mitigate the impact of outliers."
      ],
      "metadata": {
        "id": "1pLyBXepmLu7"
      }
    },
    {
      "cell_type": "code",
      "source": [
        "def log_transform(X):\n",
        "    return np.log(X)\n",
        "\n",
        "log_transformer = FunctionTransformer(func=log_transform)\n",
        "transformed_num_data = log_transformer.transform(df_num_scaled)"
      ],
      "metadata": {
        "colab": {
          "base_uri": "https://localhost:8080/"
        },
        "id": "Kf3SLbpJkyZ_",
        "outputId": "ddb777b2-a360-4efe-814d-93e1c5e0d208"
      },
      "execution_count": 31,
      "outputs": [
        {
          "output_type": "stream",
          "name": "stderr",
          "text": [
            "<ipython-input-31-38a652896eb1>:2: RuntimeWarning: invalid value encountered in log\n",
            "  return np.log(X)\n"
          ]
        }
      ]
    },
    {
      "cell_type": "markdown",
      "source": [
        "`FunctionTransformer` is very handy, but what if you would like your transformer to be trainable, learning some parameters in the `fit()` method and using them later in the `transform()` method? For this, you need to write a custom class. Scikit-Learn relies on duck typing, so this class does not have to inherit from any particular base class. All it needs is three methods: `fit()` (which must return self), `transform()`, and `fit_transform()`.\n",
        "\n",
        "<font color='#D61E85' size='+2'>**Q18:**</font> Robust scaling is a technique that is less sensitive to outliers compared to standardization. This approach is useful when dealing with datasets that contain significant outliers. First, explain how it works and write down its formula. Then try to implement it from scratch by writing a custom class. In addition to `fit()` and `transform()` methods it should contains `inverse_transform()`: executing `scaler.inverse_transform(scaler.fit_transform(X))` should return an array very close to `X`. Then add support for feature names: set `feature_names_in_` in the `fit()` method if the input is a DataFrame. This attribute should be a NumPy array of column names. Lastly, implement the `get_feature_names_out()` method: it should have one optional `input_features=None` argument. If passed, the method should check that its length matches `n_features_in_`, and it should match `feature_names_in_` if it is defined; then `input_features` should be returned. If `input_features` is `None`, then the method should either return `feature_names_in_` if it is defined or `np.array([\"x0\", \"x1\", ...])` with length `n_features_in_` otherwise."
      ],
      "metadata": {
        "id": "hcZyFHs-RaoC"
      }
    },
    {
      "cell_type": "markdown",
      "source": [
        "<font color='#8FCF26' size='+2'>**A18:**</font> Create some cell down below to write and run your code."
      ],
      "metadata": {
        "id": "v14K1yEFgNTT"
      }
    },
    {
      "cell_type": "markdown",
      "source": [
        "Robust scaling works by removing the median and scaling the data based on the interquartile range (IQR). The formula for robust scaling is:\n",
        "\n",
        "$\n",
        "X_{\\text{scaled}} = \\frac{X - \\text{median}(X)}{\\text{IQR}(X)}\n",
        "$\n",
        "\n",
        "\n",
        "*   $\\text{IQR}(X)$ epresents the interquartile range of the original data (the difference between the 75th percentile and the 25th percentile)\n",
        "\n"
      ],
      "metadata": {
        "id": "p4I0iQMdnKl3"
      }
    },
    {
      "cell_type": "code",
      "source": [
        "from sklearn.base import BaseEstimator, TransformerMixin\n",
        "\n",
        "class RobustScaler(BaseEstimator, TransformerMixin):\n",
        "    def fit(self, X, feature_names_in=None):\n",
        "        self.feature_names_in_ = feature_names_in\n",
        "        if isinstance(X, pd.DataFrame):\n",
        "            self.feature_names_in_ = X.columns.values\n",
        "        self.median_ = np.median(X, axis=0)\n",
        "        self.iqr_ = np.percentile(X, 75, axis=0) - np.percentile(X, 25, axis=0)\n",
        "        return self\n",
        "\n",
        "    def transform(self, X):\n",
        "        scaled_data = (X - self.median_) / self.iqr_\n",
        "        return scaled_data\n",
        "\n",
        "    def inverse_transform(self, X):\n",
        "        return X * self.iqr_ + self.median_\n",
        "\n",
        "    def get_feature_names_out(self, input_features=None):\n",
        "        if input_features is not None:\n",
        "            if len(input_features) != len(self.feature_names_in_):\n",
        "                raise ValueError(\"Length of input_features does not match the number of features.\")\n",
        "            return input_features\n",
        "        elif self.feature_names_in_ is not None:\n",
        "            return self.feature_names_in_\n",
        "        else:\n",
        "            return np.array([f\"x{i}\" for i in range(len(self.median_))])\n"
      ],
      "metadata": {
        "id": "TeE6xTF-qLFY"
      },
      "execution_count": 32,
      "outputs": []
    },
    {
      "cell_type": "code",
      "source": [
        "robust_scaler = RobustScaler()\n",
        "r_scaled = robust_scaler.fit_transform(imputed_data)"
      ],
      "metadata": {
        "id": "_sD_08SpBOYl"
      },
      "execution_count": 33,
      "outputs": []
    },
    {
      "cell_type": "markdown",
      "source": [
        "### Transformation Pipelines\n",
        "\n",
        "As you can see, there are many data transformation steps that need to be executed in the right order. Scikit-learn provides the pipeline class to help with such sequence of transformations.\n",
        "\n",
        "<font color='#D61E85' size='+2'>**Q19:**</font> Write a pipeline for all the transformations you used so far and then call it. Compare your results with previous setup in which you perform the transformations one by one."
      ],
      "metadata": {
        "id": "OxOZrW1HgRtO"
      }
    },
    {
      "cell_type": "markdown",
      "source": [
        "<font color='#8FCF26' size='+2'>**A19:**</font> Create some cell down below to write and run your code."
      ],
      "metadata": {
        "id": "8FwVYbvLugg3"
      }
    },
    {
      "cell_type": "code",
      "source": [
        "num_attrs = ['age', 'bmi', 'children', 'bmi_per_age', 'children_per_age']\n",
        "cat_attrs = ['sex', 'smoker', 'region']\n",
        "\n",
        "num_pipeline = Pipeline([\n",
        "    (\"impute\", SimpleImputer(strategy=\"median\")),\n",
        "    (\"robustscaler\", RobustScaler() )\n",
        "])\n",
        "\n",
        "cat_pipeline = Pipeline([\n",
        "    (\"impute\", SimpleImputer(strategy=\"most_frequent\")),\n",
        "    (\"encoder\", OneHotEncoder() )\n",
        "])\n",
        "\n",
        "preprocessing = ColumnTransformer([\n",
        "    (\"num\", num_pipeline, num_attrs),\n",
        "    (\"cat\", cat_pipeline, cat_attrs)\n",
        "])"
      ],
      "metadata": {
        "id": "0brwgaNAs_sD"
      },
      "execution_count": 34,
      "outputs": []
    },
    {
      "cell_type": "markdown",
      "source": [
        "## Select and Train a Model"
      ],
      "metadata": {
        "id": "pc52a0pdue4W"
      }
    },
    {
      "cell_type": "markdown",
      "source": [
        "### Train and Evaluate on the Training Set\n",
        "\n",
        "<font color='#D61E85' size='+2'>**Q20:**</font> After all it’s time to work with the model. Based on the answers you gave in the beginning of this exercise, you can choose which models you can use for the task. Try to use linear regression, decision tree regressor, random forest regressor, and support vector machine resgressor as your models and train these models on training split which you already created. Remember, using the first six attributes, we want to predict the `charges` column. Using the performance measures we talked about earlier try to compare your results. Don’t bother yourself with underlying dynamics of these models, we get to that in details in future."
      ],
      "metadata": {
        "id": "ViAv7HJ7y6Dh"
      }
    },
    {
      "cell_type": "markdown",
      "source": [
        "<font color='#8FCF26' size='+2'>**A20:**</font> Create some cell down below to write and run your code."
      ],
      "metadata": {
        "id": "JUwVY0hZzJff"
      }
    },
    {
      "cell_type": "markdown",
      "source": [
        "### Forest Reg"
      ],
      "metadata": {
        "id": "2dIi0_5RKgik"
      }
    },
    {
      "cell_type": "code",
      "source": [
        "forest_reg = make_pipeline(preprocessing, RandomForestRegressor(random_state=42))\n",
        "forest_reg.fit(df_feat, df_labels)"
      ],
      "metadata": {
        "colab": {
          "base_uri": "https://localhost:8080/",
          "height": 0
        },
        "outputId": "d668b2da-e9c9-4dff-c087-be962d14f7eb",
        "id": "CyPhW_4FKgim"
      },
      "execution_count": 35,
      "outputs": [
        {
          "output_type": "execute_result",
          "data": {
            "text/plain": [
              "Pipeline(steps=[('columntransformer',\n",
              "                 ColumnTransformer(transformers=[('num',\n",
              "                                                  Pipeline(steps=[('impute',\n",
              "                                                                   SimpleImputer(strategy='median')),\n",
              "                                                                  ('robustscaler',\n",
              "                                                                   RobustScaler())]),\n",
              "                                                  ['age', 'bmi', 'children',\n",
              "                                                   'bmi_per_age',\n",
              "                                                   'children_per_age']),\n",
              "                                                 ('cat',\n",
              "                                                  Pipeline(steps=[('impute',\n",
              "                                                                   SimpleImputer(strategy='most_frequent')),\n",
              "                                                                  ('encoder',\n",
              "                                                                   OneHotEncoder())]),\n",
              "                                                  ['sex', 'smoker',\n",
              "                                                   'region'])])),\n",
              "                ('randomforestregressor',\n",
              "                 RandomForestRegressor(random_state=42))])"
            ],
            "text/html": [
              "<style>#sk-container-id-1 {color: black;background-color: white;}#sk-container-id-1 pre{padding: 0;}#sk-container-id-1 div.sk-toggleable {background-color: white;}#sk-container-id-1 label.sk-toggleable__label {cursor: pointer;display: block;width: 100%;margin-bottom: 0;padding: 0.3em;box-sizing: border-box;text-align: center;}#sk-container-id-1 label.sk-toggleable__label-arrow:before {content: \"▸\";float: left;margin-right: 0.25em;color: #696969;}#sk-container-id-1 label.sk-toggleable__label-arrow:hover:before {color: black;}#sk-container-id-1 div.sk-estimator:hover label.sk-toggleable__label-arrow:before {color: black;}#sk-container-id-1 div.sk-toggleable__content {max-height: 0;max-width: 0;overflow: hidden;text-align: left;background-color: #f0f8ff;}#sk-container-id-1 div.sk-toggleable__content pre {margin: 0.2em;color: black;border-radius: 0.25em;background-color: #f0f8ff;}#sk-container-id-1 input.sk-toggleable__control:checked~div.sk-toggleable__content {max-height: 200px;max-width: 100%;overflow: auto;}#sk-container-id-1 input.sk-toggleable__control:checked~label.sk-toggleable__label-arrow:before {content: \"▾\";}#sk-container-id-1 div.sk-estimator input.sk-toggleable__control:checked~label.sk-toggleable__label {background-color: #d4ebff;}#sk-container-id-1 div.sk-label input.sk-toggleable__control:checked~label.sk-toggleable__label {background-color: #d4ebff;}#sk-container-id-1 input.sk-hidden--visually {border: 0;clip: rect(1px 1px 1px 1px);clip: rect(1px, 1px, 1px, 1px);height: 1px;margin: -1px;overflow: hidden;padding: 0;position: absolute;width: 1px;}#sk-container-id-1 div.sk-estimator {font-family: monospace;background-color: #f0f8ff;border: 1px dotted black;border-radius: 0.25em;box-sizing: border-box;margin-bottom: 0.5em;}#sk-container-id-1 div.sk-estimator:hover {background-color: #d4ebff;}#sk-container-id-1 div.sk-parallel-item::after {content: \"\";width: 100%;border-bottom: 1px solid gray;flex-grow: 1;}#sk-container-id-1 div.sk-label:hover label.sk-toggleable__label {background-color: #d4ebff;}#sk-container-id-1 div.sk-serial::before {content: \"\";position: absolute;border-left: 1px solid gray;box-sizing: border-box;top: 0;bottom: 0;left: 50%;z-index: 0;}#sk-container-id-1 div.sk-serial {display: flex;flex-direction: column;align-items: center;background-color: white;padding-right: 0.2em;padding-left: 0.2em;position: relative;}#sk-container-id-1 div.sk-item {position: relative;z-index: 1;}#sk-container-id-1 div.sk-parallel {display: flex;align-items: stretch;justify-content: center;background-color: white;position: relative;}#sk-container-id-1 div.sk-item::before, #sk-container-id-1 div.sk-parallel-item::before {content: \"\";position: absolute;border-left: 1px solid gray;box-sizing: border-box;top: 0;bottom: 0;left: 50%;z-index: -1;}#sk-container-id-1 div.sk-parallel-item {display: flex;flex-direction: column;z-index: 1;position: relative;background-color: white;}#sk-container-id-1 div.sk-parallel-item:first-child::after {align-self: flex-end;width: 50%;}#sk-container-id-1 div.sk-parallel-item:last-child::after {align-self: flex-start;width: 50%;}#sk-container-id-1 div.sk-parallel-item:only-child::after {width: 0;}#sk-container-id-1 div.sk-dashed-wrapped {border: 1px dashed gray;margin: 0 0.4em 0.5em 0.4em;box-sizing: border-box;padding-bottom: 0.4em;background-color: white;}#sk-container-id-1 div.sk-label label {font-family: monospace;font-weight: bold;display: inline-block;line-height: 1.2em;}#sk-container-id-1 div.sk-label-container {text-align: center;}#sk-container-id-1 div.sk-container {/* jupyter's `normalize.less` sets `[hidden] { display: none; }` but bootstrap.min.css set `[hidden] { display: none !important; }` so we also need the `!important` here to be able to override the default hidden behavior on the sphinx rendered scikit-learn.org. See: https://github.com/scikit-learn/scikit-learn/issues/21755 */display: inline-block !important;position: relative;}#sk-container-id-1 div.sk-text-repr-fallback {display: none;}</style><div id=\"sk-container-id-1\" class=\"sk-top-container\"><div class=\"sk-text-repr-fallback\"><pre>Pipeline(steps=[(&#x27;columntransformer&#x27;,\n",
              "                 ColumnTransformer(transformers=[(&#x27;num&#x27;,\n",
              "                                                  Pipeline(steps=[(&#x27;impute&#x27;,\n",
              "                                                                   SimpleImputer(strategy=&#x27;median&#x27;)),\n",
              "                                                                  (&#x27;robustscaler&#x27;,\n",
              "                                                                   RobustScaler())]),\n",
              "                                                  [&#x27;age&#x27;, &#x27;bmi&#x27;, &#x27;children&#x27;,\n",
              "                                                   &#x27;bmi_per_age&#x27;,\n",
              "                                                   &#x27;children_per_age&#x27;]),\n",
              "                                                 (&#x27;cat&#x27;,\n",
              "                                                  Pipeline(steps=[(&#x27;impute&#x27;,\n",
              "                                                                   SimpleImputer(strategy=&#x27;most_frequent&#x27;)),\n",
              "                                                                  (&#x27;encoder&#x27;,\n",
              "                                                                   OneHotEncoder())]),\n",
              "                                                  [&#x27;sex&#x27;, &#x27;smoker&#x27;,\n",
              "                                                   &#x27;region&#x27;])])),\n",
              "                (&#x27;randomforestregressor&#x27;,\n",
              "                 RandomForestRegressor(random_state=42))])</pre><b>In a Jupyter environment, please rerun this cell to show the HTML representation or trust the notebook. <br />On GitHub, the HTML representation is unable to render, please try loading this page with nbviewer.org.</b></div><div class=\"sk-container\" hidden><div class=\"sk-item sk-dashed-wrapped\"><div class=\"sk-label-container\"><div class=\"sk-label sk-toggleable\"><input class=\"sk-toggleable__control sk-hidden--visually\" id=\"sk-estimator-id-1\" type=\"checkbox\" ><label for=\"sk-estimator-id-1\" class=\"sk-toggleable__label sk-toggleable__label-arrow\">Pipeline</label><div class=\"sk-toggleable__content\"><pre>Pipeline(steps=[(&#x27;columntransformer&#x27;,\n",
              "                 ColumnTransformer(transformers=[(&#x27;num&#x27;,\n",
              "                                                  Pipeline(steps=[(&#x27;impute&#x27;,\n",
              "                                                                   SimpleImputer(strategy=&#x27;median&#x27;)),\n",
              "                                                                  (&#x27;robustscaler&#x27;,\n",
              "                                                                   RobustScaler())]),\n",
              "                                                  [&#x27;age&#x27;, &#x27;bmi&#x27;, &#x27;children&#x27;,\n",
              "                                                   &#x27;bmi_per_age&#x27;,\n",
              "                                                   &#x27;children_per_age&#x27;]),\n",
              "                                                 (&#x27;cat&#x27;,\n",
              "                                                  Pipeline(steps=[(&#x27;impute&#x27;,\n",
              "                                                                   SimpleImputer(strategy=&#x27;most_frequent&#x27;)),\n",
              "                                                                  (&#x27;encoder&#x27;,\n",
              "                                                                   OneHotEncoder())]),\n",
              "                                                  [&#x27;sex&#x27;, &#x27;smoker&#x27;,\n",
              "                                                   &#x27;region&#x27;])])),\n",
              "                (&#x27;randomforestregressor&#x27;,\n",
              "                 RandomForestRegressor(random_state=42))])</pre></div></div></div><div class=\"sk-serial\"><div class=\"sk-item sk-dashed-wrapped\"><div class=\"sk-label-container\"><div class=\"sk-label sk-toggleable\"><input class=\"sk-toggleable__control sk-hidden--visually\" id=\"sk-estimator-id-2\" type=\"checkbox\" ><label for=\"sk-estimator-id-2\" class=\"sk-toggleable__label sk-toggleable__label-arrow\">columntransformer: ColumnTransformer</label><div class=\"sk-toggleable__content\"><pre>ColumnTransformer(transformers=[(&#x27;num&#x27;,\n",
              "                                 Pipeline(steps=[(&#x27;impute&#x27;,\n",
              "                                                  SimpleImputer(strategy=&#x27;median&#x27;)),\n",
              "                                                 (&#x27;robustscaler&#x27;,\n",
              "                                                  RobustScaler())]),\n",
              "                                 [&#x27;age&#x27;, &#x27;bmi&#x27;, &#x27;children&#x27;, &#x27;bmi_per_age&#x27;,\n",
              "                                  &#x27;children_per_age&#x27;]),\n",
              "                                (&#x27;cat&#x27;,\n",
              "                                 Pipeline(steps=[(&#x27;impute&#x27;,\n",
              "                                                  SimpleImputer(strategy=&#x27;most_frequent&#x27;)),\n",
              "                                                 (&#x27;encoder&#x27;, OneHotEncoder())]),\n",
              "                                 [&#x27;sex&#x27;, &#x27;smoker&#x27;, &#x27;region&#x27;])])</pre></div></div></div><div class=\"sk-parallel\"><div class=\"sk-parallel-item\"><div class=\"sk-item\"><div class=\"sk-label-container\"><div class=\"sk-label sk-toggleable\"><input class=\"sk-toggleable__control sk-hidden--visually\" id=\"sk-estimator-id-3\" type=\"checkbox\" ><label for=\"sk-estimator-id-3\" class=\"sk-toggleable__label sk-toggleable__label-arrow\">num</label><div class=\"sk-toggleable__content\"><pre>[&#x27;age&#x27;, &#x27;bmi&#x27;, &#x27;children&#x27;, &#x27;bmi_per_age&#x27;, &#x27;children_per_age&#x27;]</pre></div></div></div><div class=\"sk-serial\"><div class=\"sk-item\"><div class=\"sk-serial\"><div class=\"sk-item\"><div class=\"sk-estimator sk-toggleable\"><input class=\"sk-toggleable__control sk-hidden--visually\" id=\"sk-estimator-id-4\" type=\"checkbox\" ><label for=\"sk-estimator-id-4\" class=\"sk-toggleable__label sk-toggleable__label-arrow\">SimpleImputer</label><div class=\"sk-toggleable__content\"><pre>SimpleImputer(strategy=&#x27;median&#x27;)</pre></div></div></div><div class=\"sk-item\"><div class=\"sk-estimator sk-toggleable\"><input class=\"sk-toggleable__control sk-hidden--visually\" id=\"sk-estimator-id-5\" type=\"checkbox\" ><label for=\"sk-estimator-id-5\" class=\"sk-toggleable__label sk-toggleable__label-arrow\">RobustScaler</label><div class=\"sk-toggleable__content\"><pre>RobustScaler()</pre></div></div></div></div></div></div></div></div><div class=\"sk-parallel-item\"><div class=\"sk-item\"><div class=\"sk-label-container\"><div class=\"sk-label sk-toggleable\"><input class=\"sk-toggleable__control sk-hidden--visually\" id=\"sk-estimator-id-6\" type=\"checkbox\" ><label for=\"sk-estimator-id-6\" class=\"sk-toggleable__label sk-toggleable__label-arrow\">cat</label><div class=\"sk-toggleable__content\"><pre>[&#x27;sex&#x27;, &#x27;smoker&#x27;, &#x27;region&#x27;]</pre></div></div></div><div class=\"sk-serial\"><div class=\"sk-item\"><div class=\"sk-serial\"><div class=\"sk-item\"><div class=\"sk-estimator sk-toggleable\"><input class=\"sk-toggleable__control sk-hidden--visually\" id=\"sk-estimator-id-7\" type=\"checkbox\" ><label for=\"sk-estimator-id-7\" class=\"sk-toggleable__label sk-toggleable__label-arrow\">SimpleImputer</label><div class=\"sk-toggleable__content\"><pre>SimpleImputer(strategy=&#x27;most_frequent&#x27;)</pre></div></div></div><div class=\"sk-item\"><div class=\"sk-estimator sk-toggleable\"><input class=\"sk-toggleable__control sk-hidden--visually\" id=\"sk-estimator-id-8\" type=\"checkbox\" ><label for=\"sk-estimator-id-8\" class=\"sk-toggleable__label sk-toggleable__label-arrow\">OneHotEncoder</label><div class=\"sk-toggleable__content\"><pre>OneHotEncoder()</pre></div></div></div></div></div></div></div></div></div></div><div class=\"sk-item\"><div class=\"sk-estimator sk-toggleable\"><input class=\"sk-toggleable__control sk-hidden--visually\" id=\"sk-estimator-id-9\" type=\"checkbox\" ><label for=\"sk-estimator-id-9\" class=\"sk-toggleable__label sk-toggleable__label-arrow\">RandomForestRegressor</label><div class=\"sk-toggleable__content\"><pre>RandomForestRegressor(random_state=42)</pre></div></div></div></div></div></div></div>"
            ]
          },
          "metadata": {},
          "execution_count": 35
        }
      ]
    },
    {
      "cell_type": "code",
      "source": [
        "train_pred = forest_reg.predict(df_feat)\n",
        "train_pred[:5].round(2)"
      ],
      "metadata": {
        "colab": {
          "base_uri": "https://localhost:8080/"
        },
        "outputId": "8ae7d268-443c-48d9-83ba-47598770c91f",
        "id": "Id5RClomKgin"
      },
      "execution_count": 36,
      "outputs": [
        {
          "output_type": "execute_result",
          "data": {
            "text/plain": [
              "array([13949.2 ,  5607.92, 14769.19, 25183.64,  8722.27])"
            ]
          },
          "metadata": {},
          "execution_count": 36
        }
      ]
    },
    {
      "cell_type": "code",
      "source": [
        "df_labels.iloc[:5].values"
      ],
      "metadata": {
        "colab": {
          "base_uri": "https://localhost:8080/"
        },
        "outputId": "7900e4e8-b8b4-42bf-8bd0-2a8b736e4fb9",
        "id": "txayTCSgKgio"
      },
      "execution_count": 37,
      "outputs": [
        {
          "output_type": "execute_result",
          "data": {
            "text/plain": [
              "array([10493.9458 ,  4260.744  , 13063.883  , 23401.30575,  7650.77375])"
            ]
          },
          "metadata": {},
          "execution_count": 37
        }
      ]
    },
    {
      "cell_type": "markdown",
      "source": [
        "**Train RMSE (root mean squared error)**"
      ],
      "metadata": {
        "id": "Ti2mwsPYKgip"
      }
    },
    {
      "cell_type": "code",
      "source": [
        "rmse_error_train = mean_squared_error(df_labels, train_pred, squared=False)\n",
        "rmse_error_train"
      ],
      "metadata": {
        "colab": {
          "base_uri": "https://localhost:8080/"
        },
        "outputId": "308f309e-edab-4eeb-8441-08d8ce615b35",
        "id": "oR4m-4vtKgip"
      },
      "execution_count": 38,
      "outputs": [
        {
          "output_type": "execute_result",
          "data": {
            "text/plain": [
              "1897.0863472359833"
            ]
          },
          "metadata": {},
          "execution_count": 38
        }
      ]
    },
    {
      "cell_type": "markdown",
      "source": [
        "Now we want to see how our model perofrms on validation dataset:"
      ],
      "metadata": {
        "id": "O78XFLSqKgiq"
      }
    },
    {
      "cell_type": "code",
      "source": [
        "df_feat_val = val_set.drop(\"charges\", axis=1)\n",
        "df_labels_val = val_set['charges'].copy()\n",
        "val_pred = forest_reg.predict(df_feat_val)\n",
        "rmse_error_val = mean_squared_error(df_labels_val, val_pred, squared=False)\n",
        "rmse_error_val"
      ],
      "metadata": {
        "colab": {
          "base_uri": "https://localhost:8080/"
        },
        "outputId": "83e11dd7-420b-449c-dc4c-d34571a7991b",
        "id": "i1WgU8wgKgir"
      },
      "execution_count": 39,
      "outputs": [
        {
          "output_type": "execute_result",
          "data": {
            "text/plain": [
              "3923.8316904125472"
            ]
          },
          "metadata": {},
          "execution_count": 39
        }
      ]
    },
    {
      "cell_type": "markdown",
      "source": [
        "Now we want to see how our model perofrms on test dataset:"
      ],
      "metadata": {
        "id": "zIeUQsWZKgis"
      }
    },
    {
      "cell_type": "code",
      "source": [
        "df_feat_test = test_set.drop(\"charges\", axis=1)\n",
        "df_labels_test = test_set['charges'].copy()\n",
        "test_pred = forest_reg.predict(df_feat_test)\n",
        "rmse_error_test = mean_squared_error(df_labels_test, test_pred, squared=False)\n",
        "rmse_error_test"
      ],
      "metadata": {
        "colab": {
          "base_uri": "https://localhost:8080/"
        },
        "outputId": "10ed67a0-9a40-4a70-e63a-29b8d2d93ffa",
        "id": "YvySH2S1Kgis"
      },
      "execution_count": 40,
      "outputs": [
        {
          "output_type": "execute_result",
          "data": {
            "text/plain": [
              "4616.508391870166"
            ]
          },
          "metadata": {},
          "execution_count": 40
        }
      ]
    },
    {
      "cell_type": "markdown",
      "source": [
        "Obviously, the error in val and test dataset is higher than train set and it approximately 2x."
      ],
      "metadata": {
        "id": "MlM3vMnIKgit"
      }
    },
    {
      "cell_type": "markdown",
      "source": [
        "### Decision Tree"
      ],
      "metadata": {
        "id": "3SBNkCkdKZb6"
      }
    },
    {
      "cell_type": "code",
      "source": [
        "from sklearn.tree import DecisionTreeRegressor\n",
        "dectree_reg = make_pipeline(preprocessing, DecisionTreeRegressor(random_state=42))\n",
        "dectree_reg.fit(df_feat, df_labels)"
      ],
      "metadata": {
        "colab": {
          "base_uri": "https://localhost:8080/",
          "height": 0
        },
        "id": "EcmOoOUL5B4T",
        "outputId": "9f1c67b3-a468-461f-e555-c395a847d5c9"
      },
      "execution_count": 41,
      "outputs": [
        {
          "output_type": "execute_result",
          "data": {
            "text/plain": [
              "Pipeline(steps=[('columntransformer',\n",
              "                 ColumnTransformer(transformers=[('num',\n",
              "                                                  Pipeline(steps=[('impute',\n",
              "                                                                   SimpleImputer(strategy='median')),\n",
              "                                                                  ('robustscaler',\n",
              "                                                                   RobustScaler())]),\n",
              "                                                  ['age', 'bmi', 'children',\n",
              "                                                   'bmi_per_age',\n",
              "                                                   'children_per_age']),\n",
              "                                                 ('cat',\n",
              "                                                  Pipeline(steps=[('impute',\n",
              "                                                                   SimpleImputer(strategy='most_frequent')),\n",
              "                                                                  ('encoder',\n",
              "                                                                   OneHotEncoder())]),\n",
              "                                                  ['sex', 'smoker',\n",
              "                                                   'region'])])),\n",
              "                ('decisiontreeregressor',\n",
              "                 DecisionTreeRegressor(random_state=42))])"
            ],
            "text/html": [
              "<style>#sk-container-id-2 {color: black;background-color: white;}#sk-container-id-2 pre{padding: 0;}#sk-container-id-2 div.sk-toggleable {background-color: white;}#sk-container-id-2 label.sk-toggleable__label {cursor: pointer;display: block;width: 100%;margin-bottom: 0;padding: 0.3em;box-sizing: border-box;text-align: center;}#sk-container-id-2 label.sk-toggleable__label-arrow:before {content: \"▸\";float: left;margin-right: 0.25em;color: #696969;}#sk-container-id-2 label.sk-toggleable__label-arrow:hover:before {color: black;}#sk-container-id-2 div.sk-estimator:hover label.sk-toggleable__label-arrow:before {color: black;}#sk-container-id-2 div.sk-toggleable__content {max-height: 0;max-width: 0;overflow: hidden;text-align: left;background-color: #f0f8ff;}#sk-container-id-2 div.sk-toggleable__content pre {margin: 0.2em;color: black;border-radius: 0.25em;background-color: #f0f8ff;}#sk-container-id-2 input.sk-toggleable__control:checked~div.sk-toggleable__content {max-height: 200px;max-width: 100%;overflow: auto;}#sk-container-id-2 input.sk-toggleable__control:checked~label.sk-toggleable__label-arrow:before {content: \"▾\";}#sk-container-id-2 div.sk-estimator input.sk-toggleable__control:checked~label.sk-toggleable__label {background-color: #d4ebff;}#sk-container-id-2 div.sk-label input.sk-toggleable__control:checked~label.sk-toggleable__label {background-color: #d4ebff;}#sk-container-id-2 input.sk-hidden--visually {border: 0;clip: rect(1px 1px 1px 1px);clip: rect(1px, 1px, 1px, 1px);height: 1px;margin: -1px;overflow: hidden;padding: 0;position: absolute;width: 1px;}#sk-container-id-2 div.sk-estimator {font-family: monospace;background-color: #f0f8ff;border: 1px dotted black;border-radius: 0.25em;box-sizing: border-box;margin-bottom: 0.5em;}#sk-container-id-2 div.sk-estimator:hover {background-color: #d4ebff;}#sk-container-id-2 div.sk-parallel-item::after {content: \"\";width: 100%;border-bottom: 1px solid gray;flex-grow: 1;}#sk-container-id-2 div.sk-label:hover label.sk-toggleable__label {background-color: #d4ebff;}#sk-container-id-2 div.sk-serial::before {content: \"\";position: absolute;border-left: 1px solid gray;box-sizing: border-box;top: 0;bottom: 0;left: 50%;z-index: 0;}#sk-container-id-2 div.sk-serial {display: flex;flex-direction: column;align-items: center;background-color: white;padding-right: 0.2em;padding-left: 0.2em;position: relative;}#sk-container-id-2 div.sk-item {position: relative;z-index: 1;}#sk-container-id-2 div.sk-parallel {display: flex;align-items: stretch;justify-content: center;background-color: white;position: relative;}#sk-container-id-2 div.sk-item::before, #sk-container-id-2 div.sk-parallel-item::before {content: \"\";position: absolute;border-left: 1px solid gray;box-sizing: border-box;top: 0;bottom: 0;left: 50%;z-index: -1;}#sk-container-id-2 div.sk-parallel-item {display: flex;flex-direction: column;z-index: 1;position: relative;background-color: white;}#sk-container-id-2 div.sk-parallel-item:first-child::after {align-self: flex-end;width: 50%;}#sk-container-id-2 div.sk-parallel-item:last-child::after {align-self: flex-start;width: 50%;}#sk-container-id-2 div.sk-parallel-item:only-child::after {width: 0;}#sk-container-id-2 div.sk-dashed-wrapped {border: 1px dashed gray;margin: 0 0.4em 0.5em 0.4em;box-sizing: border-box;padding-bottom: 0.4em;background-color: white;}#sk-container-id-2 div.sk-label label {font-family: monospace;font-weight: bold;display: inline-block;line-height: 1.2em;}#sk-container-id-2 div.sk-label-container {text-align: center;}#sk-container-id-2 div.sk-container {/* jupyter's `normalize.less` sets `[hidden] { display: none; }` but bootstrap.min.css set `[hidden] { display: none !important; }` so we also need the `!important` here to be able to override the default hidden behavior on the sphinx rendered scikit-learn.org. See: https://github.com/scikit-learn/scikit-learn/issues/21755 */display: inline-block !important;position: relative;}#sk-container-id-2 div.sk-text-repr-fallback {display: none;}</style><div id=\"sk-container-id-2\" class=\"sk-top-container\"><div class=\"sk-text-repr-fallback\"><pre>Pipeline(steps=[(&#x27;columntransformer&#x27;,\n",
              "                 ColumnTransformer(transformers=[(&#x27;num&#x27;,\n",
              "                                                  Pipeline(steps=[(&#x27;impute&#x27;,\n",
              "                                                                   SimpleImputer(strategy=&#x27;median&#x27;)),\n",
              "                                                                  (&#x27;robustscaler&#x27;,\n",
              "                                                                   RobustScaler())]),\n",
              "                                                  [&#x27;age&#x27;, &#x27;bmi&#x27;, &#x27;children&#x27;,\n",
              "                                                   &#x27;bmi_per_age&#x27;,\n",
              "                                                   &#x27;children_per_age&#x27;]),\n",
              "                                                 (&#x27;cat&#x27;,\n",
              "                                                  Pipeline(steps=[(&#x27;impute&#x27;,\n",
              "                                                                   SimpleImputer(strategy=&#x27;most_frequent&#x27;)),\n",
              "                                                                  (&#x27;encoder&#x27;,\n",
              "                                                                   OneHotEncoder())]),\n",
              "                                                  [&#x27;sex&#x27;, &#x27;smoker&#x27;,\n",
              "                                                   &#x27;region&#x27;])])),\n",
              "                (&#x27;decisiontreeregressor&#x27;,\n",
              "                 DecisionTreeRegressor(random_state=42))])</pre><b>In a Jupyter environment, please rerun this cell to show the HTML representation or trust the notebook. <br />On GitHub, the HTML representation is unable to render, please try loading this page with nbviewer.org.</b></div><div class=\"sk-container\" hidden><div class=\"sk-item sk-dashed-wrapped\"><div class=\"sk-label-container\"><div class=\"sk-label sk-toggleable\"><input class=\"sk-toggleable__control sk-hidden--visually\" id=\"sk-estimator-id-10\" type=\"checkbox\" ><label for=\"sk-estimator-id-10\" class=\"sk-toggleable__label sk-toggleable__label-arrow\">Pipeline</label><div class=\"sk-toggleable__content\"><pre>Pipeline(steps=[(&#x27;columntransformer&#x27;,\n",
              "                 ColumnTransformer(transformers=[(&#x27;num&#x27;,\n",
              "                                                  Pipeline(steps=[(&#x27;impute&#x27;,\n",
              "                                                                   SimpleImputer(strategy=&#x27;median&#x27;)),\n",
              "                                                                  (&#x27;robustscaler&#x27;,\n",
              "                                                                   RobustScaler())]),\n",
              "                                                  [&#x27;age&#x27;, &#x27;bmi&#x27;, &#x27;children&#x27;,\n",
              "                                                   &#x27;bmi_per_age&#x27;,\n",
              "                                                   &#x27;children_per_age&#x27;]),\n",
              "                                                 (&#x27;cat&#x27;,\n",
              "                                                  Pipeline(steps=[(&#x27;impute&#x27;,\n",
              "                                                                   SimpleImputer(strategy=&#x27;most_frequent&#x27;)),\n",
              "                                                                  (&#x27;encoder&#x27;,\n",
              "                                                                   OneHotEncoder())]),\n",
              "                                                  [&#x27;sex&#x27;, &#x27;smoker&#x27;,\n",
              "                                                   &#x27;region&#x27;])])),\n",
              "                (&#x27;decisiontreeregressor&#x27;,\n",
              "                 DecisionTreeRegressor(random_state=42))])</pre></div></div></div><div class=\"sk-serial\"><div class=\"sk-item sk-dashed-wrapped\"><div class=\"sk-label-container\"><div class=\"sk-label sk-toggleable\"><input class=\"sk-toggleable__control sk-hidden--visually\" id=\"sk-estimator-id-11\" type=\"checkbox\" ><label for=\"sk-estimator-id-11\" class=\"sk-toggleable__label sk-toggleable__label-arrow\">columntransformer: ColumnTransformer</label><div class=\"sk-toggleable__content\"><pre>ColumnTransformer(transformers=[(&#x27;num&#x27;,\n",
              "                                 Pipeline(steps=[(&#x27;impute&#x27;,\n",
              "                                                  SimpleImputer(strategy=&#x27;median&#x27;)),\n",
              "                                                 (&#x27;robustscaler&#x27;,\n",
              "                                                  RobustScaler())]),\n",
              "                                 [&#x27;age&#x27;, &#x27;bmi&#x27;, &#x27;children&#x27;, &#x27;bmi_per_age&#x27;,\n",
              "                                  &#x27;children_per_age&#x27;]),\n",
              "                                (&#x27;cat&#x27;,\n",
              "                                 Pipeline(steps=[(&#x27;impute&#x27;,\n",
              "                                                  SimpleImputer(strategy=&#x27;most_frequent&#x27;)),\n",
              "                                                 (&#x27;encoder&#x27;, OneHotEncoder())]),\n",
              "                                 [&#x27;sex&#x27;, &#x27;smoker&#x27;, &#x27;region&#x27;])])</pre></div></div></div><div class=\"sk-parallel\"><div class=\"sk-parallel-item\"><div class=\"sk-item\"><div class=\"sk-label-container\"><div class=\"sk-label sk-toggleable\"><input class=\"sk-toggleable__control sk-hidden--visually\" id=\"sk-estimator-id-12\" type=\"checkbox\" ><label for=\"sk-estimator-id-12\" class=\"sk-toggleable__label sk-toggleable__label-arrow\">num</label><div class=\"sk-toggleable__content\"><pre>[&#x27;age&#x27;, &#x27;bmi&#x27;, &#x27;children&#x27;, &#x27;bmi_per_age&#x27;, &#x27;children_per_age&#x27;]</pre></div></div></div><div class=\"sk-serial\"><div class=\"sk-item\"><div class=\"sk-serial\"><div class=\"sk-item\"><div class=\"sk-estimator sk-toggleable\"><input class=\"sk-toggleable__control sk-hidden--visually\" id=\"sk-estimator-id-13\" type=\"checkbox\" ><label for=\"sk-estimator-id-13\" class=\"sk-toggleable__label sk-toggleable__label-arrow\">SimpleImputer</label><div class=\"sk-toggleable__content\"><pre>SimpleImputer(strategy=&#x27;median&#x27;)</pre></div></div></div><div class=\"sk-item\"><div class=\"sk-estimator sk-toggleable\"><input class=\"sk-toggleable__control sk-hidden--visually\" id=\"sk-estimator-id-14\" type=\"checkbox\" ><label for=\"sk-estimator-id-14\" class=\"sk-toggleable__label sk-toggleable__label-arrow\">RobustScaler</label><div class=\"sk-toggleable__content\"><pre>RobustScaler()</pre></div></div></div></div></div></div></div></div><div class=\"sk-parallel-item\"><div class=\"sk-item\"><div class=\"sk-label-container\"><div class=\"sk-label sk-toggleable\"><input class=\"sk-toggleable__control sk-hidden--visually\" id=\"sk-estimator-id-15\" type=\"checkbox\" ><label for=\"sk-estimator-id-15\" class=\"sk-toggleable__label sk-toggleable__label-arrow\">cat</label><div class=\"sk-toggleable__content\"><pre>[&#x27;sex&#x27;, &#x27;smoker&#x27;, &#x27;region&#x27;]</pre></div></div></div><div class=\"sk-serial\"><div class=\"sk-item\"><div class=\"sk-serial\"><div class=\"sk-item\"><div class=\"sk-estimator sk-toggleable\"><input class=\"sk-toggleable__control sk-hidden--visually\" id=\"sk-estimator-id-16\" type=\"checkbox\" ><label for=\"sk-estimator-id-16\" class=\"sk-toggleable__label sk-toggleable__label-arrow\">SimpleImputer</label><div class=\"sk-toggleable__content\"><pre>SimpleImputer(strategy=&#x27;most_frequent&#x27;)</pre></div></div></div><div class=\"sk-item\"><div class=\"sk-estimator sk-toggleable\"><input class=\"sk-toggleable__control sk-hidden--visually\" id=\"sk-estimator-id-17\" type=\"checkbox\" ><label for=\"sk-estimator-id-17\" class=\"sk-toggleable__label sk-toggleable__label-arrow\">OneHotEncoder</label><div class=\"sk-toggleable__content\"><pre>OneHotEncoder()</pre></div></div></div></div></div></div></div></div></div></div><div class=\"sk-item\"><div class=\"sk-estimator sk-toggleable\"><input class=\"sk-toggleable__control sk-hidden--visually\" id=\"sk-estimator-id-18\" type=\"checkbox\" ><label for=\"sk-estimator-id-18\" class=\"sk-toggleable__label sk-toggleable__label-arrow\">DecisionTreeRegressor</label><div class=\"sk-toggleable__content\"><pre>DecisionTreeRegressor(random_state=42)</pre></div></div></div></div></div></div></div>"
            ]
          },
          "metadata": {},
          "execution_count": 41
        }
      ]
    },
    {
      "cell_type": "code",
      "source": [
        "train_pred = dectree_reg.predict(df_feat)\n",
        "train_pred[:5].round(2)"
      ],
      "metadata": {
        "colab": {
          "base_uri": "https://localhost:8080/"
        },
        "id": "d7KqW26dHFH4",
        "outputId": "cdccfc90-f2c5-4b69-aaf0-8ca4694ac8d9"
      },
      "execution_count": 42,
      "outputs": [
        {
          "output_type": "execute_result",
          "data": {
            "text/plain": [
              "array([10493.95,  4260.74, 13063.88, 23401.31,  7650.77])"
            ]
          },
          "metadata": {},
          "execution_count": 42
        }
      ]
    },
    {
      "cell_type": "code",
      "source": [
        "df_labels.iloc[:5].values"
      ],
      "metadata": {
        "colab": {
          "base_uri": "https://localhost:8080/"
        },
        "id": "UsO6FsVqHXFp",
        "outputId": "05e12b70-1368-411b-fb96-a13b61b90389"
      },
      "execution_count": 43,
      "outputs": [
        {
          "output_type": "execute_result",
          "data": {
            "text/plain": [
              "array([10493.9458 ,  4260.744  , 13063.883  , 23401.30575,  7650.77375])"
            ]
          },
          "metadata": {},
          "execution_count": 43
        }
      ]
    },
    {
      "cell_type": "markdown",
      "source": [
        "**Train RMSE (root mean squared error)**"
      ],
      "metadata": {
        "id": "fszPB8vuITtY"
      }
    },
    {
      "cell_type": "code",
      "source": [
        "rmse_error_train = mean_squared_error(df_labels, train_pred, squared=False)\n",
        "rmse_error_train"
      ],
      "metadata": {
        "colab": {
          "base_uri": "https://localhost:8080/"
        },
        "id": "agVO9hLlH38C",
        "outputId": "173dc9db-6e06-4398-8343-660e8607c34f"
      },
      "execution_count": 44,
      "outputs": [
        {
          "output_type": "execute_result",
          "data": {
            "text/plain": [
              "438.2116740248754"
            ]
          },
          "metadata": {},
          "execution_count": 44
        }
      ]
    },
    {
      "cell_type": "markdown",
      "source": [
        "Now we want to see how our model perofrms on validation dataset:"
      ],
      "metadata": {
        "id": "y9aSlRy8IiAY"
      }
    },
    {
      "cell_type": "code",
      "source": [
        "df_feat_val = val_set.drop(\"charges\", axis=1)\n",
        "df_labels_val = val_set['charges'].copy()\n",
        "val_pred = dectree_reg.predict(df_feat_val)\n",
        "rmse_error_val = mean_squared_error(df_labels_val, val_pred, squared=False)\n",
        "rmse_error_val"
      ],
      "metadata": {
        "colab": {
          "base_uri": "https://localhost:8080/"
        },
        "id": "GLcMdxZBIpTy",
        "outputId": "9aa046d0-0386-423d-c34d-e5514b9a67fb"
      },
      "execution_count": 45,
      "outputs": [
        {
          "output_type": "execute_result",
          "data": {
            "text/plain": [
              "5714.169318399603"
            ]
          },
          "metadata": {},
          "execution_count": 45
        }
      ]
    },
    {
      "cell_type": "markdown",
      "source": [
        "Now we want to see how our model perofrms on test dataset:"
      ],
      "metadata": {
        "id": "kYeG1mfDJiaY"
      }
    },
    {
      "cell_type": "code",
      "source": [
        "df_feat_test = test_set.drop(\"charges\", axis=1)\n",
        "df_labels_test = test_set['charges'].copy()\n",
        "test_pred = dectree_reg.predict(df_feat_test)\n",
        "rmse_error_test = mean_squared_error(df_labels_test, test_pred, squared=False)\n",
        "rmse_error_test"
      ],
      "metadata": {
        "colab": {
          "base_uri": "https://localhost:8080/"
        },
        "id": "_zJjgcF8Jhif",
        "outputId": "aa5e177e-a13e-4f1e-9dc3-647c5b93fad7"
      },
      "execution_count": 46,
      "outputs": [
        {
          "output_type": "execute_result",
          "data": {
            "text/plain": [
              "6682.123073135218"
            ]
          },
          "metadata": {},
          "execution_count": 46
        }
      ]
    },
    {
      "cell_type": "markdown",
      "source": [
        "Although decision tree has a smaller error on train dataset, but it is obviously overfitted on train data. Because val and test errors are much higher than forest regressor. In other words, forest regressor has a better ability to generalization."
      ],
      "metadata": {
        "id": "SnM1aU-iJ3So"
      }
    },
    {
      "cell_type": "markdown",
      "source": [
        "### Better Evaluation Using Cross-Validation\n",
        "\n",
        "As you probably know, you don’t want to touch the test set until you are ready to launch a model you are confident about, so you need to use part of the training set for training and part of it for model validation. If you have followed the instructions so far, you must have three sets named training, validation, and test. One way to evaluate the models is using the validation set. It helps you decide which model to use. But there is even a better way!\n",
        "In [this](https://www.youtube.com/watch?v=fSytzGwwBVw) short video you can learn about *k-fold cross validation* idea.\n",
        "\n",
        "<font color='#D61E85' size='+2'>**Q21:**</font> Try to decide which model is the best using the *k-fold cross validation*.\n",
        "\n"
      ],
      "metadata": {
        "id": "J8CEDZIo02IP"
      }
    },
    {
      "cell_type": "markdown",
      "source": [
        "<font color='#8FCF26' size='+2'>**A21:**</font> Create some cell down below to write and run your code."
      ],
      "metadata": {
        "id": "3BxIdY5y-bcL"
      }
    },
    {
      "cell_type": "markdown",
      "source": [
        "At first we should prepare our dataset for cross validation:"
      ],
      "metadata": {
        "id": "OL9aBlIhOEsz"
      }
    },
    {
      "cell_type": "code",
      "source": [
        "new_train_set, new_test_set = train_test_split(df, test_size=0.2, random_state=42)\n",
        "# add attributes\n",
        "for df in [new_train_set, new_test_set]:\n",
        "    df['bmi_per_age'] = df['bmi'] / df['age']\n",
        "    df['children_per_age'] = df['children'] / df['age']"
      ],
      "metadata": {
        "id": "qeQvS8suOMXP"
      },
      "execution_count": 47,
      "outputs": []
    },
    {
      "cell_type": "code",
      "source": [
        "df_feat_cross = new_train_set.drop(\"charges\", axis=1)\n",
        "df_labels_cross = new_train_set['charges'].copy()"
      ],
      "metadata": {
        "id": "Zs-wDUmBPl0I"
      },
      "execution_count": 48,
      "outputs": []
    },
    {
      "cell_type": "markdown",
      "source": [
        "### Forest reg"
      ],
      "metadata": {
        "id": "rrz1_TSwUrJU"
      }
    },
    {
      "cell_type": "code",
      "source": [
        "from sklearn.model_selection import cross_val_score\n",
        "\n",
        "forest_reg = make_pipeline(preprocessing, RandomForestRegressor(random_state=42))\n",
        "\n",
        "forest_rmses = -cross_val_score(forest_reg, df_feat_cross, df_labels_cross,\n",
        "                                scoring='neg_root_mean_squared_error',\n",
        "                                cv=10)"
      ],
      "metadata": {
        "id": "80jbwc5KOplQ"
      },
      "execution_count": 49,
      "outputs": []
    },
    {
      "cell_type": "code",
      "source": [
        "pd.Series(forest_rmses).describe()"
      ],
      "metadata": {
        "colab": {
          "base_uri": "https://localhost:8080/"
        },
        "id": "eo_LhXwNQQKZ",
        "outputId": "e3ce46fc-da8a-42b7-e0bf-c7d18879c1c2"
      },
      "execution_count": 50,
      "outputs": [
        {
          "output_type": "execute_result",
          "data": {
            "text/plain": [
              "count      10.000000\n",
              "mean     4219.117958\n",
              "std      2007.433875\n",
              "min      1734.608838\n",
              "25%      2594.662688\n",
              "50%      4184.306001\n",
              "75%      6004.100035\n",
              "max      7173.518258\n",
              "dtype: float64"
            ]
          },
          "metadata": {},
          "execution_count": 50
        }
      ]
    },
    {
      "cell_type": "code",
      "source": [
        "forest_reg.fit(df_feat_cross, df_labels_cross)\n",
        "tr_pred = forest_reg.predict(df_feat_cross)\n",
        "rmse_error_tr = mean_squared_error(df_labels_cross, tr_pred, squared=False)\n",
        "rmse_error_tr"
      ],
      "metadata": {
        "colab": {
          "base_uri": "https://localhost:8080/"
        },
        "id": "TVGxKx1-Q4W5",
        "outputId": "f6809b79-5a9d-4bab-9ced-50b4ccf39f62"
      },
      "execution_count": 51,
      "outputs": [
        {
          "output_type": "execute_result",
          "data": {
            "text/plain": [
              "1752.6170586416558"
            ]
          },
          "metadata": {},
          "execution_count": 51
        }
      ]
    },
    {
      "cell_type": "markdown",
      "source": [
        "The minimum error with 10 models of cross validation is 1752."
      ],
      "metadata": {
        "id": "QWDTgtt0RWNM"
      }
    },
    {
      "cell_type": "markdown",
      "source": [
        "Now for test set:"
      ],
      "metadata": {
        "id": "EFzbe468RfP5"
      }
    },
    {
      "cell_type": "code",
      "source": [
        "df_feat_test = new_test_set.drop(\"charges\", axis=1)\n",
        "df_labels_test = new_test_set['charges'].copy()"
      ],
      "metadata": {
        "id": "yRGENN-RRqIK"
      },
      "execution_count": 52,
      "outputs": []
    },
    {
      "cell_type": "code",
      "source": [
        "test_pred = forest_reg.predict(df_feat_test)\n",
        "rmse_error_test = mean_squared_error(df_labels_test, test_pred, squared=False)\n",
        "rmse_error_test"
      ],
      "metadata": {
        "colab": {
          "base_uri": "https://localhost:8080/"
        },
        "id": "4MKGbtpuRiW1",
        "outputId": "eb4ed0c2-375c-43d6-d16b-f4447c253eaa"
      },
      "execution_count": 53,
      "outputs": [
        {
          "output_type": "execute_result",
          "data": {
            "text/plain": [
              "4208.575074458913"
            ]
          },
          "metadata": {},
          "execution_count": 53
        }
      ]
    },
    {
      "cell_type": "markdown",
      "source": [
        "Test set error is slightly reduced from the first tree reg without k-fold cross validation"
      ],
      "metadata": {
        "id": "AxdOHIC5SHUT"
      }
    },
    {
      "cell_type": "markdown",
      "source": [
        "### Decision tree"
      ],
      "metadata": {
        "id": "C7tfn6wBUzOY"
      }
    },
    {
      "cell_type": "code",
      "source": [
        "from sklearn.model_selection import cross_val_score\n",
        "\n",
        "tree_reg = make_pipeline(preprocessing, DecisionTreeRegressor(random_state=42))\n",
        "\n",
        "tree_rmses = -cross_val_score(tree_reg, df_feat_cross, df_labels_cross,\n",
        "                                scoring='neg_root_mean_squared_error',\n",
        "                                cv=10)"
      ],
      "metadata": {
        "id": "NbxdHyvYUzO3"
      },
      "execution_count": 54,
      "outputs": []
    },
    {
      "cell_type": "code",
      "source": [
        "pd.Series(tree_rmses).describe()"
      ],
      "metadata": {
        "colab": {
          "base_uri": "https://localhost:8080/"
        },
        "outputId": "6bbcde29-1f44-4774-fcf0-3a63742037d2",
        "id": "AuWsgc1xUzO4"
      },
      "execution_count": 55,
      "outputs": [
        {
          "output_type": "execute_result",
          "data": {
            "text/plain": [
              "count      10.000000\n",
              "mean     4299.347250\n",
              "std      2571.854142\n",
              "min       901.746087\n",
              "25%      2387.050538\n",
              "50%      4113.060565\n",
              "75%      5128.767867\n",
              "max      9531.691763\n",
              "dtype: float64"
            ]
          },
          "metadata": {},
          "execution_count": 55
        }
      ]
    },
    {
      "cell_type": "code",
      "source": [
        "tree_reg.fit(df_feat_cross, df_labels_cross)\n",
        "tr_pred = tree_reg.predict(df_feat_cross)\n",
        "rmse_error_tr = mean_squared_error(df_labels_cross, tr_pred, squared=False)\n",
        "rmse_error_tr"
      ],
      "metadata": {
        "colab": {
          "base_uri": "https://localhost:8080/"
        },
        "outputId": "a1775b6f-a833-4fbf-8d17-132de574d52b",
        "id": "t6oH2VpNUzO5"
      },
      "execution_count": 56,
      "outputs": [
        {
          "output_type": "execute_result",
          "data": {
            "text/plain": [
              "0.0"
            ]
          },
          "metadata": {},
          "execution_count": 56
        }
      ]
    },
    {
      "cell_type": "markdown",
      "source": [
        "The minimum error with 10 models of cross validation is 0."
      ],
      "metadata": {
        "id": "NMoEY4lYUzO6"
      }
    },
    {
      "cell_type": "markdown",
      "source": [
        "Now for test set:"
      ],
      "metadata": {
        "id": "0E0rgrAEUzO6"
      }
    },
    {
      "cell_type": "code",
      "source": [
        "test_pred = tree_reg.predict(df_feat_test)\n",
        "rmse_error_test = mean_squared_error(df_labels_test, test_pred, squared=False)\n",
        "rmse_error_test"
      ],
      "metadata": {
        "colab": {
          "base_uri": "https://localhost:8080/"
        },
        "outputId": "a6e448fe-2ea3-4cce-e826-1e7d8089b41e",
        "id": "stsbM5ZFUzO7"
      },
      "execution_count": 57,
      "outputs": [
        {
          "output_type": "execute_result",
          "data": {
            "text/plain": [
              "5788.9447344728205"
            ]
          },
          "metadata": {},
          "execution_count": 57
        }
      ]
    },
    {
      "cell_type": "markdown",
      "source": [
        "Still we have overfitting!"
      ],
      "metadata": {
        "id": "f0oZ0q1kUzO8"
      }
    },
    {
      "cell_type": "markdown",
      "source": [
        "## Hyperparameter Tuning\n",
        "\n",
        "Let’s assume that you now have a shortlist of promising models. You now need to hyperparameter-tune them. The two main approaches to do this is grid search and randomized search.\n",
        "\n",
        "<font color='#D61E85' size='+2'>**Q22:**</font> Using these two methods try to improve your 2 best models from the previuos part and then decide which model to use. At the end you can check your model on the test set."
      ],
      "metadata": {
        "id": "Gs4btyS1-0nF"
      }
    },
    {
      "cell_type": "markdown",
      "source": [
        "<font color='#8FCF26' size='+2'>**A22:**</font> Create some cell down below to write and run your code."
      ],
      "metadata": {
        "id": "fYQFtXbzOyxr"
      }
    },
    {
      "cell_type": "markdown",
      "source": [
        "### Grid Search"
      ],
      "metadata": {
        "id": "xzWsfbi6WaAB"
      }
    },
    {
      "cell_type": "code",
      "source": [
        "from sklearn.model_selection import GridSearchCV\n",
        "\n",
        "full_pipeline = Pipeline([\n",
        "(\"preprocessing\", preprocessing),\n",
        "(\"random_forest\", RandomForestRegressor(random_state=42)),\n",
        "])\n",
        "\n",
        "param_grid = {\n",
        "    # 5 * 3 combination of hyperparameters\n",
        "    'random_forest__n_estimators': [5, 10, 15, 20, 25],\n",
        "    'random_forest__max_features': [3, 5, 6, 8],\n",
        "}\n",
        "\n",
        "grid_search = GridSearchCV(full_pipeline, param_grid, cv=10\n",
        "                           , scoring='neg_mean_squared_error', return_train_score=True)\n",
        "\n",
        "grid_search.fit(df_feat_cross, df_labels_cross)\n",
        "print(\"Best Hyperparameters:\", grid_search.best_params_)"
      ],
      "metadata": {
        "colab": {
          "base_uri": "https://localhost:8080/"
        },
        "id": "6rlwwkouVm67",
        "outputId": "ec7cb8f1-1b69-4e04-9cff-5af80107c786"
      },
      "execution_count": 88,
      "outputs": [
        {
          "output_type": "stream",
          "name": "stdout",
          "text": [
            "Best Hyperparameters: {'random_forest__max_features': 6, 'random_forest__n_estimators': 10}\n"
          ]
        }
      ]
    },
    {
      "cell_type": "code",
      "source": [
        "cvres = grid_search.cv_results_\n",
        "for mean_score, params in zip(cvres[\"mean_test_score\"], cvres[\"params\"]):\n",
        "    print(np.sqrt(-mean_score), params)"
      ],
      "metadata": {
        "colab": {
          "base_uri": "https://localhost:8080/"
        },
        "id": "dBiF39AOfkt3",
        "outputId": "55afcfaf-6840-4fb6-9c3d-7f54e3740cf5"
      },
      "execution_count": 89,
      "outputs": [
        {
          "output_type": "stream",
          "name": "stdout",
          "text": [
            "6549.433108551005 {'random_forest__max_features': 3, 'random_forest__n_estimators': 5}\n",
            "6564.606515707646 {'random_forest__max_features': 3, 'random_forest__n_estimators': 10}\n",
            "6312.301614826352 {'random_forest__max_features': 3, 'random_forest__n_estimators': 15}\n",
            "6183.370642359709 {'random_forest__max_features': 3, 'random_forest__n_estimators': 20}\n",
            "6006.787070599031 {'random_forest__max_features': 3, 'random_forest__n_estimators': 25}\n",
            "6231.217028418885 {'random_forest__max_features': 5, 'random_forest__n_estimators': 5}\n",
            "6135.115344853282 {'random_forest__max_features': 5, 'random_forest__n_estimators': 10}\n",
            "5954.785842749328 {'random_forest__max_features': 5, 'random_forest__n_estimators': 15}\n",
            "5923.5998086712825 {'random_forest__max_features': 5, 'random_forest__n_estimators': 20}\n",
            "5687.822826585465 {'random_forest__max_features': 5, 'random_forest__n_estimators': 25}\n",
            "4951.778161513607 {'random_forest__max_features': 6, 'random_forest__n_estimators': 5}\n",
            "4769.728623643744 {'random_forest__max_features': 6, 'random_forest__n_estimators': 10}\n",
            "5079.803324351055 {'random_forest__max_features': 6, 'random_forest__n_estimators': 15}\n",
            "5024.84444134991 {'random_forest__max_features': 6, 'random_forest__n_estimators': 20}\n",
            "4883.235612620986 {'random_forest__max_features': 6, 'random_forest__n_estimators': 25}\n",
            "5588.694712694809 {'random_forest__max_features': 8, 'random_forest__n_estimators': 5}\n",
            "4932.551711207073 {'random_forest__max_features': 8, 'random_forest__n_estimators': 10}\n",
            "4910.721280441289 {'random_forest__max_features': 8, 'random_forest__n_estimators': 15}\n",
            "4895.600969180603 {'random_forest__max_features': 8, 'random_forest__n_estimators': 20}\n",
            "4848.475146661131 {'random_forest__max_features': 8, 'random_forest__n_estimators': 25}\n"
          ]
        }
      ]
    },
    {
      "cell_type": "markdown",
      "source": [
        "Maybe we have this idea that with increasing number of features, we will always have better results. Increasing number of features and estimators will help us up to a certain limit and after that performance will be decreased."
      ],
      "metadata": {
        "id": "EVnfmOpTf1so"
      }
    },
    {
      "cell_type": "code",
      "source": [
        "test_pred = grid_search.predict(df_feat_test)\n",
        "rmse_error_test = mean_squared_error(df_labels_test, test_pred, squared=False)\n",
        "rmse_error_test"
      ],
      "metadata": {
        "colab": {
          "base_uri": "https://localhost:8080/"
        },
        "id": "YeEqW4TBgKiJ",
        "outputId": "6f9e6005-d316-4538-e986-27a29480c238"
      },
      "execution_count": 90,
      "outputs": [
        {
          "output_type": "execute_result",
          "data": {
            "text/plain": [
              "4614.85487114813"
            ]
          },
          "metadata": {},
          "execution_count": 90
        }
      ]
    },
    {
      "cell_type": "markdown",
      "source": [
        "### Randomized Search"
      ],
      "metadata": {
        "id": "yBjblDvihuOB"
      }
    },
    {
      "cell_type": "code",
      "source": [
        "from sklearn.model_selection import RandomizedSearchCV\n",
        "from scipy.stats import randint\n",
        "\n",
        "full_pipeline = Pipeline([\n",
        "(\"preprocessing\", preprocessing),\n",
        "(\"random_forest\", RandomForestRegressor(random_state=42)),\n",
        "])\n",
        "\n",
        "param_distribs = {'random_forest__n_estimators': randint(low=3, high=25),\n",
        "                  'random_forest__max_features': randint(low=2, high=8)}\n",
        "\n",
        "random_search = RandomizedSearchCV(full_pipeline, param_distribs, cv=10, n_iter=10,\n",
        "                                   scoring='neg_mean_squared_error', return_train_score=True)\n",
        "\n",
        "random_search.fit(df_feat_cross, df_labels_cross)\n",
        "print(\"Best Hyperparameters:\", random_search.best_params_)"
      ],
      "metadata": {
        "colab": {
          "base_uri": "https://localhost:8080/"
        },
        "outputId": "e8334ad2-db99-4fdf-8e97-218025b79f61",
        "id": "DPtoU7lAhuOC"
      },
      "execution_count": 101,
      "outputs": [
        {
          "output_type": "stream",
          "name": "stdout",
          "text": [
            "Best Hyperparameters: {'random_forest__max_features': 6, 'random_forest__n_estimators': 17}\n"
          ]
        }
      ]
    },
    {
      "cell_type": "code",
      "source": [
        "cvres = random_search.cv_results_\n",
        "for mean_score, params in zip(cvres[\"mean_test_score\"], cvres[\"params\"]):\n",
        "    print(np.sqrt(-mean_score), params)"
      ],
      "metadata": {
        "colab": {
          "base_uri": "https://localhost:8080/"
        },
        "outputId": "906adad3-4f1e-4eed-e930-31b3549cb6ee",
        "id": "0RuTCFsEhuOD"
      },
      "execution_count": 102,
      "outputs": [
        {
          "output_type": "stream",
          "name": "stdout",
          "text": [
            "6394.965984759887 {'random_forest__max_features': 3, 'random_forest__n_estimators': 11}\n",
            "6209.613274116314 {'random_forest__max_features': 5, 'random_forest__n_estimators': 9}\n",
            "7313.559207166571 {'random_forest__max_features': 2, 'random_forest__n_estimators': 10}\n",
            "6699.149584224956 {'random_forest__max_features': 5, 'random_forest__n_estimators': 4}\n",
            "6953.357639943038 {'random_forest__max_features': 2, 'random_forest__n_estimators': 18}\n",
            "5385.291270468431 {'random_forest__max_features': 7, 'random_forest__n_estimators': 7}\n",
            "5921.25592786332 {'random_forest__max_features': 4, 'random_forest__n_estimators': 14}\n",
            "5512.4233413701995 {'random_forest__max_features': 7, 'random_forest__n_estimators': 5}\n",
            "7407.855080178676 {'random_forest__max_features': 2, 'random_forest__n_estimators': 5}\n",
            "5082.032868609411 {'random_forest__max_features': 6, 'random_forest__n_estimators': 17}\n"
          ]
        }
      ]
    },
    {
      "cell_type": "code",
      "source": [
        "test_pred = random_search.predict(df_feat_test)\n",
        "rmse_error_test = mean_squared_error(df_labels_test, test_pred, squared=False)\n",
        "rmse_error_test"
      ],
      "metadata": {
        "colab": {
          "base_uri": "https://localhost:8080/"
        },
        "outputId": "be1a4df3-a1f4-401e-d873-38d175dbbba2",
        "id": "OsLFh-5dhuOF"
      },
      "execution_count": 103,
      "outputs": [
        {
          "output_type": "execute_result",
          "data": {
            "text/plain": [
              "4414.966206865584"
            ]
          },
          "metadata": {},
          "execution_count": 103
        }
      ]
    },
    {
      "cell_type": "markdown",
      "source": [
        "Same as grid search, in all cases increasing features and estimators will not result to better performance."
      ],
      "metadata": {
        "id": "1nhurhoFhuOF"
      }
    },
    {
      "cell_type": "markdown",
      "source": [
        "## Saving the Model\n",
        "\n",
        "It’s often a good idea to save every model you experiment with so\n",
        "that you can come back easily to any model you want. To save a model you can use the `joblib` library."
      ],
      "metadata": {
        "id": "KaEbyylORSLK"
      }
    }
  ]
}